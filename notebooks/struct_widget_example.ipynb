{
 "cells": [
  {
   "cell_type": "code",
   "execution_count": 1,
   "metadata": {},
   "outputs": [],
   "source": [
    "import pandas as pd\n",
    "\n",
    "import yaml\n",
    "\n",
    "from dms_struct.colorschemes import ValueToColorMap\n",
    "from dms_struct.struct_widget import colored_struct"
   ]
  },
  {
   "cell_type": "code",
   "execution_count": 2,
   "metadata": {},
   "outputs": [
    {
     "data": {
      "text/html": [
       "<div>\n",
       "<style scoped>\n",
       "    .dataframe tbody tr th:only-of-type {\n",
       "        vertical-align: middle;\n",
       "    }\n",
       "\n",
       "    .dataframe tbody tr th {\n",
       "        vertical-align: top;\n",
       "    }\n",
       "\n",
       "    .dataframe thead th {\n",
       "        text-align: right;\n",
       "    }\n",
       "</style>\n",
       "<table border=\"1\" class=\"dataframe\">\n",
       "  <thead>\n",
       "    <tr style=\"text-align: right;\">\n",
       "      <th></th>\n",
       "      <th>serum</th>\n",
       "      <th>serum_group</th>\n",
       "      <th>site</th>\n",
       "      <th>isite</th>\n",
       "      <th>pdb_chain</th>\n",
       "      <th>pdb_site</th>\n",
       "      <th>zoom_site</th>\n",
       "      <th>wildtype</th>\n",
       "      <th>mutation</th>\n",
       "      <th>mutdiffsel</th>\n",
       "      <th>positive_diffsel</th>\n",
       "      <th>negative_diffsel</th>\n",
       "      <th>abs_diffsel</th>\n",
       "    </tr>\n",
       "  </thead>\n",
       "  <tbody>\n",
       "    <tr>\n",
       "      <th>0</th>\n",
       "      <td>2010-age-21</td>\n",
       "      <td>human</td>\n",
       "      <td>193</td>\n",
       "      <td>208</td>\n",
       "      <td>A</td>\n",
       "      <td>193</td>\n",
       "      <td>True</td>\n",
       "      <td>F</td>\n",
       "      <td>D</td>\n",
       "      <td>3.6671</td>\n",
       "      <td>15.837</td>\n",
       "      <td>-1.5467</td>\n",
       "      <td>17.384</td>\n",
       "    </tr>\n",
       "    <tr>\n",
       "      <th>1</th>\n",
       "      <td>2010-age-21</td>\n",
       "      <td>human</td>\n",
       "      <td>193</td>\n",
       "      <td>208</td>\n",
       "      <td>A</td>\n",
       "      <td>193</td>\n",
       "      <td>True</td>\n",
       "      <td>F</td>\n",
       "      <td>N</td>\n",
       "      <td>3.1793</td>\n",
       "      <td>15.837</td>\n",
       "      <td>-1.5467</td>\n",
       "      <td>17.384</td>\n",
       "    </tr>\n",
       "    <tr>\n",
       "      <th>2</th>\n",
       "      <td>2010-age-21</td>\n",
       "      <td>human</td>\n",
       "      <td>193</td>\n",
       "      <td>208</td>\n",
       "      <td>A</td>\n",
       "      <td>193</td>\n",
       "      <td>True</td>\n",
       "      <td>F</td>\n",
       "      <td>Q</td>\n",
       "      <td>2.0820</td>\n",
       "      <td>15.837</td>\n",
       "      <td>-1.5467</td>\n",
       "      <td>17.384</td>\n",
       "    </tr>\n",
       "    <tr>\n",
       "      <th>3</th>\n",
       "      <td>2010-age-21</td>\n",
       "      <td>human</td>\n",
       "      <td>193</td>\n",
       "      <td>208</td>\n",
       "      <td>A</td>\n",
       "      <td>193</td>\n",
       "      <td>True</td>\n",
       "      <td>F</td>\n",
       "      <td>E</td>\n",
       "      <td>2.0098</td>\n",
       "      <td>15.837</td>\n",
       "      <td>-1.5467</td>\n",
       "      <td>17.384</td>\n",
       "    </tr>\n",
       "    <tr>\n",
       "      <th>4</th>\n",
       "      <td>2010-age-21</td>\n",
       "      <td>human</td>\n",
       "      <td>193</td>\n",
       "      <td>208</td>\n",
       "      <td>A</td>\n",
       "      <td>193</td>\n",
       "      <td>True</td>\n",
       "      <td>F</td>\n",
       "      <td>L</td>\n",
       "      <td>1.0960</td>\n",
       "      <td>15.837</td>\n",
       "      <td>-1.5467</td>\n",
       "      <td>17.384</td>\n",
       "    </tr>\n",
       "  </tbody>\n",
       "</table>\n",
       "</div>"
      ],
      "text/plain": [
       "         serum serum_group site  isite pdb_chain  pdb_site  zoom_site  \\\n",
       "0  2010-age-21       human  193    208         A       193       True   \n",
       "1  2010-age-21       human  193    208         A       193       True   \n",
       "2  2010-age-21       human  193    208         A       193       True   \n",
       "3  2010-age-21       human  193    208         A       193       True   \n",
       "4  2010-age-21       human  193    208         A       193       True   \n",
       "\n",
       "  wildtype mutation  mutdiffsel  positive_diffsel  negative_diffsel  \\\n",
       "0        F        D      3.6671            15.837           -1.5467   \n",
       "1        F        N      3.1793            15.837           -1.5467   \n",
       "2        F        Q      2.0820            15.837           -1.5467   \n",
       "3        F        E      2.0098            15.837           -1.5467   \n",
       "4        F        L      1.0960            15.837           -1.5467   \n",
       "\n",
       "   abs_diffsel  \n",
       "0       17.384  \n",
       "1       17.384  \n",
       "2       17.384  \n",
       "3       17.384  \n",
       "4       17.384  "
      ]
     },
     "execution_count": 2,
     "metadata": {},
     "output_type": "execute_result"
    }
   ],
   "source": [
    "data = (pd.read_csv('data/Lee_serum_mapping.csv')\n",
    "        .query('serum == \"2010-age-21\"')\n",
    "        .reset_index(drop=True)\n",
    "        )\n",
    "\n",
    "data.head()"
   ]
  },
  {
   "cell_type": "code",
   "execution_count": 3,
   "metadata": {},
   "outputs": [
    {
     "name": "stdout",
     "output_type": "stream",
     "text": [
      "We now have data for 566 sites.\n"
     ]
    }
   ],
   "source": [
    "prop_df = (data\n",
    "           [['pdb_chain', 'pdb_site', 'zoom_site', 'positive_diffsel']]\n",
    "           .drop_duplicates()\n",
    "           .reset_index(drop=True)\n",
    "           )\n",
    "print(f\"We now have data for {len(prop_df)} sites.\")"
   ]
  },
  {
   "cell_type": "code",
   "execution_count": 4,
   "metadata": {},
   "outputs": [
    {
     "data": {
      "image/png": "[encoded data removed]",
      "text/plain": [
       "<Figure size 252x28.8 with 1 Axes>"
      ]
     },
     "metadata": {
      "needs_background": "light"
     },
     "output_type": "display_data"
    }
   ],
   "source": [
    "colormapper = ValueToColorMap(prop_df['positive_diffsel'].min(),\n",
    "                              prop_df['positive_diffsel'].max())\n",
    "\n",
    "_ = colormapper.scale_bar(label='positive diffsel', orientation='horizontal')"
   ]
  },
  {
   "cell_type": "code",
   "execution_count": 5,
   "metadata": {},
   "outputs": [
    {
     "data": {
      "text/html": [
       "<div>\n",
       "<style scoped>\n",
       "    .dataframe tbody tr th:only-of-type {\n",
       "        vertical-align: middle;\n",
       "    }\n",
       "\n",
       "    .dataframe tbody tr th {\n",
       "        vertical-align: top;\n",
       "    }\n",
       "\n",
       "    .dataframe thead th {\n",
       "        text-align: right;\n",
       "    }\n",
       "</style>\n",
       "<table border=\"1\" class=\"dataframe\">\n",
       "  <thead>\n",
       "    <tr style=\"text-align: right;\">\n",
       "      <th></th>\n",
       "      <th>pdb_chain</th>\n",
       "      <th>pdb_site</th>\n",
       "      <th>zoom_site</th>\n",
       "      <th>positive_diffsel</th>\n",
       "      <th>color</th>\n",
       "    </tr>\n",
       "  </thead>\n",
       "  <tbody>\n",
       "    <tr>\n",
       "      <th>0</th>\n",
       "      <td>A</td>\n",
       "      <td>193</td>\n",
       "      <td>True</td>\n",
       "      <td>15.8370</td>\n",
       "      <td>#95d73f</td>\n",
       "    </tr>\n",
       "    <tr>\n",
       "      <th>1</th>\n",
       "      <td>A</td>\n",
       "      <td>144</td>\n",
       "      <td>True</td>\n",
       "      <td>9.9572</td>\n",
       "      <td>#1e978a</td>\n",
       "    </tr>\n",
       "    <tr>\n",
       "      <th>2</th>\n",
       "      <td>A</td>\n",
       "      <td>159</td>\n",
       "      <td>True</td>\n",
       "      <td>11.6170</td>\n",
       "      <td>#26ac81</td>\n",
       "    </tr>\n",
       "    <tr>\n",
       "      <th>3</th>\n",
       "      <td>A</td>\n",
       "      <td>160</td>\n",
       "      <td>True</td>\n",
       "      <td>4.6819</td>\n",
       "      <td>#3b518a</td>\n",
       "    </tr>\n",
       "    <tr>\n",
       "      <th>4</th>\n",
       "      <td>A</td>\n",
       "      <td>135</td>\n",
       "      <td>False</td>\n",
       "      <td>3.0065</td>\n",
       "      <td>#453681</td>\n",
       "    </tr>\n",
       "  </tbody>\n",
       "</table>\n",
       "</div>"
      ],
      "text/plain": [
       "  pdb_chain  pdb_site  zoom_site  positive_diffsel    color\n",
       "0         A       193       True           15.8370  #95d73f\n",
       "1         A       144       True            9.9572  #1e978a\n",
       "2         A       159       True           11.6170  #26ac81\n",
       "3         A       160       True            4.6819  #3b518a\n",
       "4         A       135      False            3.0065  #453681"
      ]
     },
     "execution_count": 5,
     "metadata": {},
     "output_type": "execute_result"
    }
   ],
   "source": [
    "prop_df = prop_df.assign(color=lambda x: (x['positive_diffsel']\n",
    "                                          .apply(colormapper.val_to_color)\n",
    "                                          )\n",
    "                         )\n",
    "\n",
    "prop_df.head()"
   ]
  },
  {
   "cell_type": "markdown",
   "metadata": {},
   "source": [
    "https://github.com/arose/nglview/issues/785#issuecomment-487409212"
   ]
  },
  {
   "cell_type": "code",
   "execution_count": 6,
   "metadata": {},
   "outputs": [],
   "source": [
    "with open('data/pdb_orientations.yaml') as f:\n",
    "    orientations = yaml.safe_load(f)['4o5n']"
   ]
  },
  {
   "cell_type": "code",
   "execution_count": 7,
   "metadata": {
    "tags": [
     "nbval-ignore-output"
    ]
   },
   "outputs": [
    {
     "data": {
      "application/vnd.jupyter.widget-view+json": {
       "model_id": "8f74e193a2784fd3b6f9a0ae3b333bc8",
       "version_major": 2,
       "version_minor": 0
      },
      "text/plain": [
       "NGLWidget()"
      ]
     },
     "metadata": {},
     "output_type": "display_data"
    }
   ],
   "source": [
    "w_cartoon = colored_struct(\n",
    "                pdb='4o5n',\n",
    "                prop_df=prop_df,\n",
    "                chain_col='pdb_chain',\n",
    "                site_col='pdb_site',\n",
    "                orientation=orientations['vertical_trimer'],\n",
    "                )\n",
    "w_cartoon"
   ]
  },
  {
   "cell_type": "code",
   "execution_count": 8,
   "metadata": {
    "tags": [
     "nbval-ignore-output"
    ]
   },
   "outputs": [
    {
     "data": {
      "application/vnd.jupyter.widget-view+json": {
       "model_id": "a92a19cfdac24dd3a9c0205acb58e87f",
       "version_major": 2,
       "version_minor": 0
      },
      "text/plain": [
       "NGLWidget()"
      ]
     },
     "metadata": {},
     "output_type": "display_data"
    }
   ],
   "source": [
    "w_cartoon_ball = colored_struct(\n",
    "                    pdb='4o5n',\n",
    "                    prop_df=prop_df,\n",
    "                    chain_col='pdb_chain',\n",
    "                    site_col='pdb_site',\n",
    "                    highlight_col='zoom_site',\n",
    "                    orientation=orientations['vertical_trimer'],\n",
    "                    )\n",
    "w_cartoon_ball"
   ]
  },
  {
   "cell_type": "code",
   "execution_count": 9,
   "metadata": {
    "tags": [
     "nbval-ignore-output"
    ]
   },
   "outputs": [
    {
     "data": {
      "application/vnd.jupyter.widget-view+json": {
       "model_id": "a8dc2d773fd840bd944ae2f8a19e8bd3",
       "version_major": 2,
       "version_minor": 0
      },
      "text/plain": [
       "NGLWidget()"
      ]
     },
     "metadata": {},
     "output_type": "display_data"
    }
   ],
   "source": [
    "w_surface = colored_struct(\n",
    "                pdb='4o5n',\n",
    "                prop_df=prop_df,\n",
    "                representation='surface',\n",
    "                chain_col='pdb_chain',\n",
    "                site_col='pdb_site',\n",
    "                orientation=orientations['vertical_trimer'],\n",
    "                )\n",
    "w_surface"
   ]
  },
  {
   "cell_type": "code",
   "execution_count": 10,
   "metadata": {
    "tags": [
     "nbval-ignore-output"
    ]
   },
   "outputs": [
    {
     "data": {
      "application/vnd.jupyter.widget-view+json": {
       "model_id": "1adbda310c8d433b8053925ba4183783",
       "version_major": 2,
       "version_minor": 0
      },
      "text/plain": [
       "NGLWidget()"
      ]
     },
     "metadata": {},
     "output_type": "display_data"
    }
   ],
   "source": [
    "w_ha1 = colored_struct(\n",
    "                pdb='4o5n',\n",
    "                prop_df=prop_df.query('pdb_chain == \"A\"'),\n",
    "                chain_col='pdb_chain',\n",
    "                site_col='pdb_site',\n",
    "                highlight_col='zoom_site',\n",
    "                orientation=orientations['vertical_trimer'],\n",
    "                )\n",
    "w_ha1"
   ]
  },
  {
   "cell_type": "code",
   "execution_count": 11,
   "metadata": {
    "tags": [
     "nbval-ignore-output"
    ]
   },
   "outputs": [
    {
     "data": {
      "application/vnd.jupyter.widget-view+json": {
       "model_id": "c206823c34c24da0a3975c39731c42a1",
       "version_major": 2,
       "version_minor": 0
      },
      "text/plain": [
       "NGLWidget()"
      ]
     },
     "metadata": {},
     "output_type": "display_data"
    }
   ],
   "source": [
    "w_ha2gray = colored_struct(\n",
    "                pdb='4o5n',\n",
    "                prop_df=prop_df.query('pdb_chain == \"A\"'),\n",
    "                chain_col='pdb_chain',\n",
    "                site_col='pdb_site',\n",
    "                highlight_col='zoom_site',\n",
    "                show_other='protein',\n",
    "                other_color='gray',\n",
    "                orientation=orientations['vertical_trimer'],\n",
    "                )\n",
    "w_ha2gray"
   ]
  },
  {
   "cell_type": "markdown",
   "metadata": {},
   "source": [
    "You can save the images with the `download_image` command: http://nglviewer.org/nglview/latest/api.html?highlight=download_image#nglview.NGLWidget.download_image"
   ]
  },
  {
   "cell_type": "code",
   "execution_count": null,
   "metadata": {},
   "outputs": [],
   "source": []
  }
 ],
 "metadata": {
  "kernelspec": {
   "display_name": "Python 3",
   "language": "python",
   "name": "python3"
  },
  "language_info": {
   "codemirror_mode": {
    "name": "ipython",
    "version": 3
   },
   "file_extension": ".py",
   "mimetype": "text/x-python",
   "name": "python",
   "nbconvert_exporter": "python",
   "pygments_lexer": "ipython3",
   "version": "3.6.7"
  },
  "toc": {
   "base_numbering": 1,
   "nav_menu": {},
   "number_sections": true,
   "sideBar": true,
   "skip_h1_title": false,
   "title_cell": "Table of Contents",
   "title_sidebar": "Contents",
   "toc_cell": false,
   "toc_position": {},
   "toc_section_display": "block",
   "toc_window_display": false
  }
 },
 "nbformat": 4,
 "nbformat_minor": 2
}
