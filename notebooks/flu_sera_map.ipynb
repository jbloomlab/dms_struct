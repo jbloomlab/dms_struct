{
 "cells": [
  {
   "cell_type": "markdown",
   "metadata": {},
   "source": [
    "Note: *It may take a minute for the structures to render, please be patient.*"
   ]
  },
  {
   "cell_type": "code",
   "execution_count": 1,
   "metadata": {},
   "outputs": [],
   "source": [
    "# This notebook shows logo plots and interactive structure widgets.\n",
    "# It is set up so that it can be parameterized by papermill.\n",
    "# It is designed so that it can be run in appmode\n",
    "# (https://github.com/oschuett/appmode), and for that reason has\n",
    "# comments written mostly in code cells rather than Markdown."
   ]
  },
  {
   "cell_type": "code",
   "execution_count": 2,
   "metadata": {},
   "outputs": [],
   "source": [
    "# import Python modules\n",
    "\n",
    "import io\n",
    "import os\n",
    "\n",
    "from IPython.display import display, Image\n",
    "\n",
    "import matplotlib.image\n",
    "import matplotlib.pyplot as plt\n",
    "\n",
    "import nglview\n",
    "\n",
    "import pandas as pd\n",
    "\n",
    "import yaml\n",
    "\n",
    "from dmslogo import facet_plot\n",
    "from dms_struct.colorschemes import ValueToColorMap\n",
    "from dms_struct.struct_widget import colored_struct"
   ]
  },
  {
   "cell_type": "code",
   "execution_count": 3,
   "metadata": {
    "tags": [
     "parameters"
    ]
   },
   "outputs": [],
   "source": [
    "# This cell is tagged `parameters` to enable papermill parameterization\n",
    "# See: https://papermill.readthedocs.io/en/latest/usage-parameterize.html\n",
    "\n",
    "data_csv = 'data/Lee_serum_mapping.csv'  # CSV file with tiday data frame to plot\n",
    "query_str = 'serum_group == \"human\"'  # query data frame using this str to get just subset to plot\n",
    "mut_metric = 'mutdiffsel'  # mutation-level selection metric\n",
    "site_metric = 'positive_diffsel'  # site-level selection metric\n",
    "facet_col = 'serum'  # column specifying each subset to plot, for instance serum or antibody\n",
    "isite_col = 'isite'  # column specifying sites in sequential integer numbering\n",
    "site_col = 'site'  # column specifying site number as str\n",
    "pdb_chain_col = 'pdb_chain'  # column specifying PDB chain\n",
    "pdb_site_col = 'pdb_site'  # column specifying PDB site\n",
    "zoom_col = 'zoom_site'  # column indicating sites to zoom in logo and struct\n",
    "wildtype_col = 'wildtype'  # column indicating wildtype identity at site\n",
    "mutation_col = 'mutation'  # column indicating amino-acid mutant\n",
    "\n",
    "# representation for structure, such as `cartoon`, `surface`, `spacefill`\n",
    "representation = ['surface', 'spacefill']\n",
    "\n",
    "outdir = './structure_images/'  # output directory for structure images\n",
    "\n",
    "pdb = '4o5n'  # PDB ID\n",
    "# orientation of structure: https://github.com/arose/nglview/issues/785#issuecomment-487409212\n",
    "orientation = [113.5, 44.09, 180.08, 0, -185.38, 23.99, 110.97, 0,\n",
    "               2.63, -211.51, 50.12, 0, -34.66, 25.44, 46.9, 1]\n",
    "\n",
    "# specs for panel of structure images created as image file\n",
    "panel_height = 3.75  # height of panel plot\n",
    "panel_top = 0.9  # top margin of panel\n",
    "panel_wspace = 0.4  # space between subplots\n",
    "panel_legend_width = 0.3  # width of legend relative to subplots\n",
    "panel_fig = './structure_images/human_struct_panel.png'  # created panel imaged file\n",
    "\n",
    "# Do structures and logo plots have separate scales for immune selection coloring?\n",
    "separatescale = True"
   ]
  },
  {
   "cell_type": "markdown",
   "metadata": {},
   "source": [
    "Scale bar mapping the strength of immune selection to the colors in the structure and logo plots:"
   ]
  },
  {
   "cell_type": "code",
   "execution_count": 4,
   "metadata": {},
   "outputs": [
    {
     "name": "stdout",
     "output_type": "stream",
     "text": [
      "Immune selection color-scale is different for each structure:\n"
     ]
    },
    {
     "data": {
      "image/png": "[encoded data removed]",
      "text/plain": [
       "<Figure size 252x28.8 with 1 Axes>"
      ]
     },
     "metadata": {},
     "output_type": "display_data"
    }
   ],
   "source": [
    "# read the data\n",
    "data = pd.read_csv(data_csv)\n",
    "\n",
    "# query data if applicable\n",
    "if query_str:\n",
    "    data = data.query(query_str)\n",
    "\n",
    "# get mutation-level data for logo plot plotting\n",
    "mut_df = (data\n",
    "          [[facet_col, isite_col, site_col, pdb_chain_col, pdb_site_col,\n",
    "            zoom_col, wildtype_col, mutation_col, mut_metric, site_metric]]\n",
    "          .assign(**{site_col: lambda x: x[site_col].astype('str')})\n",
    "          .assign(site_label=lambda x: x[wildtype_col] + x[site_col],\n",
    "                  facet_spaces=lambda x: x[facet_col].str.replace('-', ' '))\n",
    "          )\n",
    "\n",
    "if separatescale:\n",
    "    print('Immune selection color-scale is different for each structure:')\n",
    "    mut_df_list = []\n",
    "    for facet, facet_df in mut_df.groupby(facet_col, sort=False):\n",
    "        colormapper = ValueToColorMap(0, facet_df[site_metric].max())\n",
    "        mut_df_list.append(facet_df.assign(color=lambda x: (x[site_metric]\n",
    "                                               .apply(colormapper.val_to_color))))\n",
    "    mut_df = pd.concat(mut_df_list)\n",
    "else:\n",
    "    print(\"Immune selection color-scale is shared across structures:\")\n",
    "    colormapper = ValueToColorMap(0, mut_df[site_metric].max())\n",
    "    mut_df = mut_df.assign(color=lambda x: (x[site_metric]\n",
    "                                           .apply(colormapper.val_to_color)))\n",
    "\n",
    "# get site level data for structure images\n",
    "site_df = (mut_df\n",
    "           [[facet_col, pdb_chain_col, pdb_site_col, zoom_col, 'color']]\n",
    "           .drop_duplicates()\n",
    "           )\n",
    "\n",
    "# show the scale bar\n",
    "fig, _ = colormapper.scale_bar(label='immune selection',\n",
    "                               orientation='horizontal',\n",
    "                               low_high_ticks_only=separatescale)\n",
    "display(fig)\n",
    "plt.close(fig)"
   ]
  },
  {
   "cell_type": "code",
   "execution_count": 5,
   "metadata": {},
   "outputs": [],
   "source": [
    "%%capture\n",
    "# `%%capture` prevents plots from being shown\n",
    "\n",
    "# get logo plots for each facet\n",
    "logoplots = {}\n",
    "for facet, facet_df in mut_df.groupby(facet_col, sort=False):\n",
    "    if separatescale:\n",
    "        ymax = facet_df[site_metric].max()\n",
    "    else:\n",
    "        ymax = mut_df[site_metric].max()   \n",
    "    assert ymax > 0\n",
    "    dy = 0.055 * ymax  # extra for y-limits\n",
    "    fig, _ = facet_plot(facet_df,\n",
    "                        gridrow_col='facet_spaces',\n",
    "                        x_col=isite_col,\n",
    "                        show_col=zoom_col,\n",
    "                        draw_line_kwargs={'height_col': site_metric,\n",
    "                                          'xtick_col': site_col,\n",
    "                                          'ylabel': 'immune selection'},\n",
    "                        draw_logo_kwargs={'letter_col': mutation_col,\n",
    "                                          'letter_height_col': mut_metric,\n",
    "                                          'xtick_col': 'site_label',\n",
    "                                          'color_col': 'color',\n",
    "                                          'xlabel': site_col,\n",
    "                                          'ylabel': 'immune selection',\n",
    "                                          'clip_negative_heights': True},\n",
    "                        line_titlesuffix='site-level selection',\n",
    "                        logo_titlesuffix='mutation-level selection',\n",
    "                        share_ylim_across_rows=False,\n",
    "                        share_xlabel=True,\n",
    "                        share_ylabel=True,\n",
    "                        height_per_ax=2,\n",
    "                        set_ylims=(-dy, ymax + dy)\n",
    "                        )\n",
    "    logoplots[facet] = fig"
   ]
  },
  {
   "cell_type": "code",
   "execution_count": 6,
   "metadata": {
    "tags": [
     "nbval-ignore-output"
    ]
   },
   "outputs": [],
   "source": [
    "# get structure widgets for each facet\n",
    "widgets = {}\n",
    "for facet, facet_df in site_df.groupby(facet_col, sort=False):\n",
    "    w = colored_struct(pdb=pdb,\n",
    "                       prop_df=facet_df,\n",
    "                       chain_col=pdb_chain_col,\n",
    "                       site_col=pdb_site_col,\n",
    "                       representation=representation,\n",
    "                       highlight_col=zoom_col,\n",
    "                       orientation=orientation,\n",
    "                       )\n",
    "    widgets[facet] = w"
   ]
  },
  {
   "cell_type": "markdown",
   "metadata": {},
   "source": [
    "Maps of immune selection:\n",
    " - The line plots show the total selection at each site.\n",
    " - The logo plots show selection for each mutation at key sites.\n",
    " - The structure uses color to show the selection at each site, with the key sites in the logo plots shown with spheres and the rest shown in cartoon representation."
   ]
  },
  {
   "cell_type": "code",
   "execution_count": 7,
   "metadata": {
    "scrolled": false,
    "tags": [
     "nbval-ignore-output"
    ]
   },
   "outputs": [
    {
     "name": "stdout",
     "output_type": "stream",
     "text": [
      "------------------------ 2010 age 21 ------------------------\n"
     ]
    },
    {
     "data": {
      "image/png": "[encoded data removed]",
      "text/plain": [
       "<Figure size 853.581x266.4 with 2 Axes>"
      ]
     },
     "metadata": {},
     "output_type": "display_data"
    },
    {
     "data": {
      "application/vnd.jupyter.widget-view+json": {
       "model_id": "c5c79144396c44e5b3f363e4b282bf2b",
       "version_major": 2,
       "version_minor": 0
      },
      "text/plain": [
       "NGLWidget()"
      ]
     },
     "metadata": {},
     "output_type": "display_data"
    },
    {
     "name": "stdout",
     "output_type": "stream",
     "text": [
      "------------------------ 2009 age 53 ------------------------\n"
     ]
    },
    {
     "data": {
      "image/png": "[encoded data removed]",
      "text/plain": [
       "<Figure size 853.581x266.4 with 2 Axes>"
      ]
     },
     "metadata": {},
     "output_type": "display_data"
    },
    {
     "data": {
      "application/vnd.jupyter.widget-view+json": {
       "model_id": "7f4ca2f2abb14a7a814b2b81c295ba43",
       "version_major": 2,
       "version_minor": 0
      },
      "text/plain": [
       "NGLWidget()"
      ]
     },
     "metadata": {},
     "output_type": "display_data"
    },
    {
     "name": "stdout",
     "output_type": "stream",
     "text": [
      "------------------------ 2009 age 64 ------------------------\n"
     ]
    },
    {
     "data": {
      "image/png": "[encoded data removed]",
      "text/plain": [
       "<Figure size 853.581x266.4 with 2 Axes>"
      ]
     },
     "metadata": {},
     "output_type": "display_data"
    },
    {
     "data": {
      "application/vnd.jupyter.widget-view+json": {
       "model_id": "ba78a35785c24c90989669d981de3a17",
       "version_major": 2,
       "version_minor": 0
      },
      "text/plain": [
       "NGLWidget()"
      ]
     },
     "metadata": {},
     "output_type": "display_data"
    },
    {
     "name": "stdout",
     "output_type": "stream",
     "text": [
      "------------------------ 2009 age 65 ------------------------\n"
     ]
    },
    {
     "data": {
      "image/png": "[encoded data removed]",
      "text/plain": [
       "<Figure size 853.581x266.4 with 2 Axes>"
      ]
     },
     "metadata": {},
     "output_type": "display_data"
    },
    {
     "data": {
      "application/vnd.jupyter.widget-view+json": {
       "model_id": "e1e0ede8a8e748b9b584aeab24155c2d",
       "version_major": 2,
       "version_minor": 0
      },
      "text/plain": [
       "NGLWidget()"
      ]
     },
     "metadata": {},
     "output_type": "display_data"
    }
   ],
   "source": [
    "# show logo plots and widgets\n",
    "for facet, logofig in logoplots.items():\n",
    "    print('-' * 24 + f\" {facet.replace('-', ' ')} \" + '-' * 24)\n",
    "    display(logofig)\n",
    "    display(widgets[facet])"
   ]
  },
  {
   "cell_type": "code",
   "execution_count": 8,
   "metadata": {},
   "outputs": [],
   "source": [
    "images = {}\n",
    "for facet, w in widgets.items():\n",
    "    images[facet] = w.render_image(factor=4, trim=True)"
   ]
  },
  {
   "cell_type": "code",
   "execution_count": 9,
   "metadata": {},
   "outputs": [],
   "source": [
    "# YOU MUST WAIT FOR THE IMAGES ABOVE TO RENDER BEFORE RUNNING THE FOLLOWING CELLS"
   ]
  },
  {
   "cell_type": "code",
   "execution_count": 10,
   "metadata": {},
   "outputs": [],
   "source": [
    "os.makedirs(outdir, exist_ok=True)\n",
    "png_files = {}\n",
    "for facet, image in images.items():\n",
    "    png_file = os.path.join(outdir, f\"{facet}.png\")\n",
    "    with open(png_file, 'wb') as f:\n",
    "        f.write(image.value)\n",
    "    png_files[facet] = png_file"
   ]
  },
  {
   "cell_type": "code",
   "execution_count": 11,
   "metadata": {},
   "outputs": [],
   "source": [
    "# Show all structures in a panel.\n",
    "# Follow basic idea here to show PNGs as matplotlib plot:\n",
    "# https://stackoverflow.com/a/50569248\n",
    "\n",
    "mpimages = {}\n",
    "for facet, png in png_files.items():\n",
    "    with open(png, 'rb') as f:\n",
    "        contents = f.read()\n",
    "    if contents:\n",
    "        mpimages[facet] = matplotlib.image.imread(png)\n",
    "    else:\n",
    "        dummyfig = plt.figure(figsize=(panel_height, panel_height))\n",
    "        plt.xticks([], fig=dummyfig)\n",
    "        plt.yticks([], fig=dummyfig)\n",
    "        plt.text(0.5, 0.5,\n",
    "                 f\"Empty PNG for {facet}.\\n\"\n",
    "                 'Did you allow widgets to render\\n'\n",
    "                 'before running subsequent cells?',\n",
    "                 va='center', ha='center')\n",
    "        with io.BytesIO() as f:\n",
    "            dummyfig.savefig(f, format='png')\n",
    "            f.seek(0)\n",
    "            mpimages[facet] = matplotlib.image.imread(f)\n",
    "        plt.close(dummyfig)\n",
    "\n",
    "aspects = [img.shape[1] / img.shape[0] for img in mpimages.values()]\n",
    "aspects.insert(0, sum(aspects) / len(aspects) * panel_legend_width * 0.5)\n",
    "nax = len(aspects)\n",
    "figwidth = panel_height * sum(aspects) * (1 + panel_wspace)\n",
    "avgpanelwidth = sum(aspects) / len(aspects) * panel_height\n",
    "\n",
    "fig, axes = plt.subplots(\n",
    "                nrows=1,\n",
    "                ncols=nax,\n",
    "                figsize=(figwidth, panel_height),\n",
    "                gridspec_kw={'width_ratios': aspects},\n",
    "                )\n",
    "\n",
    "fig.subplots_adjust(left=0.5 * panel_legend_width / sum(aspects),\n",
    "                    right=1 - panel_wspace * avgpanelwidth / figwidth,\n",
    "                    bottom=0.03, top=panel_top,\n",
    "                    wspace=panel_wspace, hspace=0)\n",
    "\n",
    "_ = colormapper.scale_bar(label='immune selection',\n",
    "                          orientation='vertical',\n",
    "                          ax=axes[0],\n",
    "                          low_high_ticks_only=separatescale)\n",
    "\n",
    "for ax, (title, img) in zip(axes[1 : ], mpimages.items()):\n",
    "    ax.imshow(img)\n",
    "    ax.axis('off')\n",
    "    if title:\n",
    "        ax.set_title(title.replace('-', ' '),\n",
    "                     fontsize=17,\n",
    "                     verticalalignment='bottom',\n",
    "                     )\n",
    "\n",
    "os.makedirs(os.path.dirname(panel_fig), exist_ok=True)\n",
    "fig.savefig(panel_fig, dpi=400)\n",
    "        \n",
    "plt.close(fig)"
   ]
  },
  {
   "cell_type": "code",
   "execution_count": 12,
   "metadata": {},
   "outputs": [],
   "source": [
    "# to look at the PNG of the panel of images, uncomment the line below\n",
    "# display(Image(panel_fig))"
   ]
  }
 ],
 "metadata": {
  "kernelspec": {
   "display_name": "Python 3",
   "language": "python",
   "name": "python3"
  },
  "language_info": {
   "codemirror_mode": {
    "name": "ipython",
    "version": 3
   },
   "file_extension": ".py",
   "mimetype": "text/x-python",
   "name": "python",
   "nbconvert_exporter": "python",
   "pygments_lexer": "ipython3",
   "version": "3.6.7"
  },
  "toc": {
   "base_numbering": 1,
   "nav_menu": {},
   "number_sections": false,
   "sideBar": true,
   "skip_h1_title": false,
   "title_cell": "Table of Contents",
   "title_sidebar": "Contents",
   "toc_cell": false,
   "toc_position": {},
   "toc_section_display": "block",
   "toc_window_display": false
  },
  "widgets": {
   "application/vnd.jupyter.widget-state+json": {
    "state": {
     "1a9d5316f5bb4d5182af59941935f8b3": {
      "model_module": "@jupyter-widgets/controls",
      "model_module_version": "1.4.0",
      "model_name": "ImageModel",
      "state": {
       "layout": "IPY_MODEL_c5ee54feed3a43ca986ac8fc096a3f7c",
       "width": "900.0"
      }
     },
     "233ee0d637254d35a790096a43c4b6eb": {
      "model_module": "@jupyter-widgets/controls",
      "model_module_version": "1.4.0",
      "model_name": "ImageModel",
      "state": {
       "layout": "IPY_MODEL_3695071c8564409184fd294d120b7c86",
       "width": "900.0"
      }
     },
     "3695071c8564409184fd294d120b7c86": {
      "model_module": "@jupyter-widgets/base",
      "model_module_version": "1.1.0",
      "model_name": "LayoutModel",
      "state": {}
     },
     "3b17001af3bc4eaaa9822c673ac0eb81": {
      "model_module": "nglview-js-widgets",
      "model_module_version": "1.2.0",
      "model_name": "NGLModel",
      "state": {
       "_camera_orientation": [
        217.38309823903052,
        0,
        0,
        0,
        0,
        217.38309823903052,
        0,
        0,
        0,
        0,
        217.38309823903052,
        0,
        -34.66,
        25.44,
        46.9,
        1
       ],
       "_camera_str": "orthographic",
       "_image_data": "",
       "_n_dragged_files": 0,
       "_ngl_coordinate_resource": {},
       "_ngl_full_stage_parameters": {
        "ambientColor": 14540253,
        "ambientIntensity": 0.2,
        "backgroundColor": "white",
        "cameraEyeSep": 0.3,
        "cameraFov": 40,
        "cameraType": "perspective",
        "clipDist": 10,
        "clipFar": 100,
        "clipNear": 0,
        "fogFar": 100,
        "fogNear": 50,
        "hoverTimeout": 0,
        "impostor": true,
        "lightColor": 14540253,
        "lightIntensity": 1,
        "mousePreset": "default",
        "panSpeed": 1,
        "quality": "medium",
        "rotateSpeed": 2,
        "sampleLevel": 0,
        "tooltip": true,
        "workerDefault": true,
        "zoomSpeed": 1.2
       },
       "_ngl_full_stage_parameters_embed": {},
       "_ngl_msg_archive": [],
       "_ngl_original_stage_parameters": {
        "ambientColor": 14540253,
        "ambientIntensity": 0.2,
        "backgroundColor": "white",
        "cameraEyeSep": 0.3,
        "cameraFov": 40,
        "cameraType": "perspective",
        "clipDist": 10,
        "clipFar": 100,
        "clipNear": 0,
        "fogFar": 100,
        "fogNear": 50,
        "hoverTimeout": 0,
        "impostor": true,
        "lightColor": 14540253,
        "lightIntensity": 1,
        "mousePreset": "default",
        "panSpeed": 1,
        "quality": "medium",
        "rotateSpeed": 2,
        "sampleLevel": 0,
        "tooltip": true,
        "workerDefault": true,
        "zoomSpeed": 1.2
       },
       "_ngl_repr_dict": {
        "0": {
         "0": {
          "params": {
           "aspectRatio": 5,
           "assembly": "default",
           "capped": true,
           "clipCenter": {
            "x": 0,
            "y": 0,
            "z": 0
           },
           "clipNear": 0,
           "clipRadius": 0,
           "colorMode": "hcl",
           "colorReverse": false,
           "colorScale": "RdYlBu",
           "colorScheme": "5d797998-20e0-4413-acf9-42ad77b0542a|",
           "colorValue": 9474192,
           "defaultAssembly": "BU1",
           "depthWrite": true,
           "diffuse": 16777215,
           "diffuseInterior": false,
           "disablePicking": false,
           "flatShaded": false,
           "interiorColor": 2236962,
           "interiorDarkening": 0,
           "lazy": false,
           "matrix": {
            "elements": [
             1,
             0,
             0,
             0,
             0,
             1,
             0,
             0,
             0,
             0,
             1,
             0,
             0,
             0,
             0,
             1
            ]
           },
           "metalness": 0,
           "opacity": 1,
           "quality": "medium",
           "radialSegments": 10,
           "radiusData": {},
           "radiusScale": 0.7,
           "radiusSize": 1,
           "radiusType": "sstruc",
           "roughness": 0.4,
           "sele": "(:A and 193), (:A and 144), (:A and 159), (:A and 160), (:A and 135), (:A and 222), (:A and 244), (:A and 207), (:A and 224), (:A and 227), (:A and 35), (:A and 223), (:A and 210), (:A and 188), (:A and 187), (:A and 225), (:A and 304), (:A and 61), (:A and 103), (:A and 302), (:A and 208), (:A and 149), (:A and 229), (:A and 50), (:A and 328), (:A and 214), (:A and 142), (:A and 96), (:A and 192), (:A and 121), (:A and 2), (:A and 12), (:A and 245), (:A and 137), (:A and -15), (:A and 161), (:A and 69), (:A and 180), (:A and 57), (:A and 253), (:A and 215), (:A and 4), (:A and 7), (:A and 41), (:A and 34), (:A and 280), (:A and 5), (:A and 123), (:A and 275), (:A and 32), (:A and 325), (:A and 3), (:A and 81), (:A and 243), (:A and 311), (:A and 164), (:A and 326), (:A and 261), (:A and 94), (:A and -4), (:A and 205), (:A and 303), (:A and 251), (:A and 6), (:A and 273), (:A and 324), (:A and 25), (:A and 323), (:A and 124), (:A and 209), (:A and 257), (:A and -2), (:A and 53), (:A and 143), (:A and 146), (:A and 226), (:A and 148), (:A and 145), (:A and 171), (:A and 98), (:A and 127), (:A and 185), (:A and 21), (:A and 47), (:A and 179), (:A and 67), (:A and 114), (:A and 64), (:A and 82), (:A and 10), (:A and 319), (:A and 308), (:A and 219), (:A and 167), (:A and 9), (:A and 290), (:A and 240), (:A and 37), (:A and 125), (:A and 44), (:A and 78), (:A and 212), (:A and 63), (:A and 189), (:A and 234), (:A and 8), (:A and 30), (:A and 91), (:A and 220), (:A and 110), (:A and 258), (:A and -5), (:A and 322), (:A and 13), (:A and 278), (:A and 199), (:A and 138), (:A and 279), (:A and 108), (:A and -10), (:A and 83), (:A and 36), (:A and 318), (:A and -7), (:A and 184), (:A and 298), (:A and 168), (:A and 218), (:A and 31), (:A and 316), (:A and 54), (:A and 90), (:A and 221), (:A and 203), (:A and 79), (:A and 92), (:A and 294), (:A and 241), (:A and 237), (:A and 291), (:A and 260), (:A and 26), (:A and 306), (:A and 264), (:A and -13), (:A and 296), (:A and 75), (:A and 197), (:A and 250), (:A and 293), (:A and 217), (:A and 59), (:A and 310), (:A and 105), (:A and 140), (:A and 119), (:A and 254), (:A and 170), (:A and 113), (:A and 231), (:A and 71), (:A and 163), (:A and 97), (:A and 289), (:A and -16), (:A and 48), (:A and 52), (:A and 285), (:A and 242), (:A and 255), (:A and 248), (:A and 315), (:A and 68), (:A and 42), (:A and 299), (:A and 17), (:A and 65), (:A and 230), (:A and 84), (:A and 151), (:A and 169), (:A and 109), (:A and -6), (:A and 18), (:A and 33), (:A and 76), (:A and 175), (:A and 158), (:A and 129), (:A and 126), (:A and 216), (:A and 239), (:A and 120), (:A and 295), (:A and 201), (:A and 277), (:A and 235), (:A and 139), (:A and 173), (:A and -14), (:A and 301), (:A and 14), (:A and -9), (:A and 122), (:A and 276), (:A and 107), (:A and 213), (:A and 49), (:A and 72), (:A and 317), (:A and 166), (:A and 274), (:A and 172), (:A and 267), (:A and 111), (:A and 282), (:A and 155), (:A and 204), (:A and 206), (:A and 256), (:A and 178), (:A and 307), (:A and 24), (:A and 56), (:A and 312), (:A and 1), (:A and 238), (:A and 130), (:A and 27), (:A and 104), (:A and -3), (:A and 236), (:A and 186), (:A and 262), (:A and 136), (:A and 320), (:A and 152), (:A and 43), (:A and 305), (:A and 46), (:A and 38), (:A and 321), (:A and 165), (:A and 154), (:A and 211), (:A and 174), (:A and 266), (:A and 202), (:A and 228), (:A and 246), (:A and 153), (:A and 271), (:A and 85), (:A and 128), (:A and 300), (:A and 102), (:A and 269), (:A and 99), (:A and 131), (:A and 198), (:A and 191), (:A and 117), (:A and 247), (:A and 93), (:A and 95), (:A and 101), (:A and 58), (:A and 74), (:A and 28), (:A and 70), (:A and 89), (:A and 134), (:A and 162), (:A and 233), (:A and 249), (:A and 15), (:A and 29), (:A and 141), (:A and 62), (:A and -8), (:A and 39), (:A and 177), (:A and 313), (:A and 73), (:A and 272), (:A and 45), (:A and 232), (:A and 100), (:A and 286), (:A and 252), (:A and 112), (:A and 287), (:A and 150), (:A and 133), (:A and 132), (:A and 80), (:A and 20), (:A and 19), (:A and 23), (:A and 87), (:A and 327), (:A and 270), (:A and 190), (:A and 11), (:A and 51), (:A and 77), (:A and 157), (:A and 16), (:A and 281), (:A and 86), (:A and 259), (:A and 288), (:A and 195), (:A and 297), (:A and -1), (:A and 283), (:A and 196), (:A and 268), (:A and 55), (:A and 118), (:A and 194), (:A and 314), (:A and 40), (:A and 22), (:A and 309), (:A and 156), (:A and 292), (:A and 265), (:A and 183), (:A and 284), (:A and -12), (:A and 106), (:A and 176), (:A and 182), (:A and -11), (:A and 181), (:A and 329), (:A and 263), (:A and 200), (:A and 116), (:A and 147), (:A and 66), (:A and 115), (:A and 60), (:A and 88)",
           "side": "double",
           "smoothSheet": false,
           "subdiv": 6,
           "tension": null,
           "useInteriorColor": true,
           "visible": true,
           "wireframe": false
          },
          "type": "cartoon"
         },
         "1": {
          "params": {
           "assembly": "default",
           "clipCenter": {
            "x": 0,
            "y": 0,
            "z": 0
           },
           "clipNear": 0,
           "clipRadius": 0,
           "colorMode": "hcl",
           "colorReverse": false,
           "colorScale": "",
           "colorScheme": "2176eaf2-d357-4967-9e67-6f41ae3743c2|",
           "colorValue": 9474192,
           "defaultAssembly": "BU1",
           "depthWrite": true,
           "diffuse": 16777215,
           "diffuseInterior": false,
           "disableImpostor": false,
           "disablePicking": false,
           "flatShaded": false,
           "interiorColor": 2236962,
           "interiorDarkening": 0,
           "lazy": false,
           "matrix": {
            "elements": [
             1,
             0,
             0,
             0,
             0,
             1,
             0,
             0,
             0,
             0,
             1,
             0,
             0,
             0,
             0,
             1
            ]
           },
           "metalness": 0,
           "opacity": 1,
           "quality": "medium",
           "radiusData": {},
           "radiusScale": 1,
           "radiusSize": 1,
           "radiusType": "vdw",
           "roughness": 0.4,
           "sele": "(:A and 193), (:A and 144), (:A and 159), (:A and 160), (:A and 222), (:A and 244), (:A and 157)",
           "side": "double",
           "sphereDetail": 1,
           "useInteriorColor": true,
           "visible": true,
           "wireframe": false
          },
          "type": "spacefill"
         }
        }
       },
       "_ngl_serialize": false,
       "_ngl_version": "2.0.0-dev.35",
       "_scene_position": {},
       "_scene_rotation": {},
       "background": "white",
       "count": 1,
       "frame": 0,
       "layout": "IPY_MODEL_94a8dd03e400460aa60ff1d19901561d",
       "n_components": 1,
       "picked": {}
      }
     },
     "3b4d39f7792d4513a82199c029c6923a": {
      "model_module": "@jupyter-widgets/base",
      "model_module_version": "1.1.0",
      "model_name": "LayoutModel",
      "state": {}
     },
     "3ff9f0b5078446c7802d490797389378": {
      "model_module": "@jupyter-widgets/controls",
      "model_module_version": "1.4.0",
      "model_name": "ImageModel",
      "state": {
       "layout": "IPY_MODEL_a41a9f79bf4d464e8bf604c428a2bcdc",
       "width": "900.0"
      }
     },
     "438c4a2e8e934724b47c97a5520c79ea": {
      "model_module": "@jupyter-widgets/base",
      "model_module_version": "1.1.0",
      "model_name": "LayoutModel",
      "state": {}
     },
     "460f1c3f3c2245ecbc3da9b2fcb2288a": {
      "model_module": "@jupyter-widgets/base",
      "model_module_version": "1.1.0",
      "model_name": "LayoutModel",
      "state": {}
     },
     "5f6fe369f24d4a9b91a34cdd5b7181d2": {
      "model_module": "nglview-js-widgets",
      "model_module_version": "1.2.0",
      "model_name": "NGLModel",
      "state": {
       "_camera_orientation": [
        217.38309823903052,
        0,
        0,
        0,
        0,
        217.38309823903052,
        0,
        0,
        0,
        0,
        217.38309823903052,
        0,
        -34.66,
        25.44,
        46.9,
        1
       ],
       "_camera_str": "orthographic",
       "_image_data": "",
       "_n_dragged_files": 0,
       "_ngl_coordinate_resource": {},
       "_ngl_full_stage_parameters": {
        "ambientColor": 14540253,
        "ambientIntensity": 0.2,
        "backgroundColor": "white",
        "cameraEyeSep": 0.3,
        "cameraFov": 40,
        "cameraType": "perspective",
        "clipDist": 10,
        "clipFar": 100,
        "clipNear": 0,
        "fogFar": 100,
        "fogNear": 50,
        "hoverTimeout": 0,
        "impostor": true,
        "lightColor": 14540253,
        "lightIntensity": 1,
        "mousePreset": "default",
        "panSpeed": 1,
        "quality": "medium",
        "rotateSpeed": 2,
        "sampleLevel": 0,
        "tooltip": true,
        "workerDefault": true,
        "zoomSpeed": 1.2
       },
       "_ngl_full_stage_parameters_embed": {},
       "_ngl_msg_archive": [],
       "_ngl_original_stage_parameters": {
        "ambientColor": 14540253,
        "ambientIntensity": 0.2,
        "backgroundColor": "white",
        "cameraEyeSep": 0.3,
        "cameraFov": 40,
        "cameraType": "perspective",
        "clipDist": 10,
        "clipFar": 100,
        "clipNear": 0,
        "fogFar": 100,
        "fogNear": 50,
        "hoverTimeout": 0,
        "impostor": true,
        "lightColor": 14540253,
        "lightIntensity": 1,
        "mousePreset": "default",
        "panSpeed": 1,
        "quality": "medium",
        "rotateSpeed": 2,
        "sampleLevel": 0,
        "tooltip": true,
        "workerDefault": true,
        "zoomSpeed": 1.2
       },
       "_ngl_repr_dict": {
        "0": {
         "0": {
          "params": {
           "assembly": "default",
           "background": false,
           "clipCenter": {
            "x": 0,
            "y": 0,
            "z": 0
           },
           "clipNear": 0,
           "clipRadius": 0,
           "colorMode": "hcl",
           "colorReverse": false,
           "colorScale": "",
           "colorScheme": "584efd75-5fe0-4ecb-b9dd-89dd60b3abde|",
           "colorValue": 14540253,
           "contour": false,
           "cutoff": 0,
           "defaultAssembly": "BU1",
           "depthWrite": true,
           "diffuse": 16777215,
           "diffuseInterior": false,
           "disablePicking": true,
           "filterSele": "",
           "flatShaded": false,
           "interiorColor": 2236962,
           "interiorDarkening": 0,
           "lazy": false,
           "matrix": {
            "elements": [
             1,
             0,
             0,
             0,
             0,
             1,
             0,
             0,
             0,
             0,
             1,
             0,
             0,
             0,
             0,
             1
            ]
           },
           "metalness": 0,
           "opacity": 1,
           "opaqueBack": true,
           "probeRadius": 1.4,
           "quality": "medium",
           "radiusData": {},
           "radiusScale": 1,
           "radiusSize": 1,
           "radiusType": "vdw",
           "roughness": 0.4,
           "scaleFactor": 2,
           "sele": "(:A and 193), (:A and 144), (:A and 159), (:A and 160), (:A and 135), (:A and 222), (:A and 244), (:B and 81), (:B and 23), (:B and 124), (:A and 207), (:A and 224), (:A and 227), (:B and 140), (:A and 35), (:B and 37), (:B and 26), (:A and 223), (:B and 83), (:B and 88), (:A and 210), (:A and 188), (:A and 187), (:B and 65), (:A and 225), (:B and 114), (:A and 304), (:A and 61), (:A and 103), (:B and 78), (:B and 18), (:B and 219), (:A and 302), (:A and 208), (:A and 149), (:B and 202), (:A and 229), (:A and 50), (:A and 328), (:A and 214), (:B and 108), (:A and 142), (:A and 96), (:A and 192), (:B and 122), (:B and 179), (:B and 16), (:A and 121), (:A and 2), (:B and 139), (:A and 12), (:B and 68), (:B and 95), (:A and 245), (:B and 67), (:B and 185), (:A and 137), (:B and 76), (:A and -15), (:A and 161), (:B and 127), (:B and 17), (:A and 69), (:A and 180), (:B and 4), (:A and 57), (:B and 126), (:B and 61), (:A and 253), (:A and 215), (:A and 4), (:B and 203), (:A and 7), (:B and 191), (:B and 85), (:A and 41), (:B and 99), (:B and 158), (:A and 34), (:B and 120), (:B and 71), (:B and 84), (:B and 30), (:A and 280), (:A and 5), (:A and 123), (:A and 275), (:A and 32), (:B and 198), (:A and 325), (:B and 31), (:B and 102), (:A and 3), (:B and 47), (:A and 81), (:A and 243), (:B and 110), (:A and 311), (:B and 89), (:A and 164), (:A and 326), (:B and 3), (:A and 261), (:A and 94), (:A and -4), (:A and 205), (:A and 303), (:B and 39), (:B and 165), (:B and 141), (:B and 195), (:B and 132), (:B and 135), (:A and 251), (:B and 152), (:A and 6), (:B and 144), (:A and 273), (:B and 1), (:A and 324), (:B and 70), (:B and 63), (:A and 25), (:A and 323), (:A and 124), (:A and 209), (:A and 257), (:A and -2), (:B and 69), (:A and 53), (:B and 29), (:B and 156), (:A and 143), (:B and 21), (:A and 146), (:A and 226), (:A and 148), (:A and 145), (:A and 171), (:A and 98), (:B and 57), (:A and 127), (:A and 185), (:B and 145), (:A and 21), (:B and 172), (:A and 47), (:A and 179), (:B and 187), (:A and 67), (:A and 114), (:B and 131), (:B and 24), (:A and 64), (:B and 166), (:B and 8), (:A and 82), (:B and 46), (:B and 59), (:B and 137), (:B and 32), (:A and 10), (:A and 319), (:A and 308), (:A and 219), (:A and 167), (:A and 9), (:A and 290), (:A and 240), (:A and 37), (:A and 125), (:A and 44), (:A and 78), (:A and 212), (:A and 63), (:A and 189), (:A and 234), (:A and 8), (:A and 30), (:B and 80), (:B and 54), (:B and 201), (:A and 91), (:B and 125), (:A and 220), (:A and 110), (:B and 10), (:B and 206), (:A and 258), (:A and -5), (:A and 322), (:A and 13), (:B and 113), (:B and 115), (:A and 278), (:A and 199), (:A and 138), (:A and 279), (:A and 108), (:B and 9), (:A and -10), (:B and 73), (:B and 212), (:B and 177), (:B and 134), (:B and 91), (:A and 83), (:A and 36), (:A and 318), (:B and 74), (:B and 20), (:B and 25), (:A and -7), (:A and 184), (:A and 298), (:A and 168), (:A and 218), (:B and 218), (:A and 31), (:A and 316), (:B and 27), (:A and 54), (:A and 90), (:A and 221), (:B and 98), (:A and 203), (:B and 33), (:A and 79), (:A and 92), (:B and 163), (:B and 190), (:B and 174), (:B and 66), (:A and 294), (:A and 241), (:A and 237), (:A and 291), (:A and 260), (:A and 26), (:A and 306), (:A and 264), (:A and -13), (:A and 296), (:B and 49), (:B and 123), (:B and 19), (:A and 75), (:A and 197), (:A and 250), (:B and 82), (:A and 293), (:A and 217), (:B and 34), (:A and 59), (:A and 310), (:A and 105), (:B and 51), (:B and 150), (:A and 140), (:A and 119), (:B and 111), (:A and 254), (:B and 44), (:A and 170), (:B and 41), (:A and 113), (:A and 231), (:B and 209), (:A and 71), (:B and 208), (:A and 163), (:A and 97), (:A and 289), (:B and 14), (:B and 189), (:A and -16), (:A and 48), (:A and 52), (:A and 285), (:B and 180), (:A and 242), (:A and 255), (:A and 248), (:B and 6), (:A and 315), (:A and 68), (:A and 42), (:B and 64), (:A and 299), (:A and 17), (:A and 65), (:B and 171), (:A and 230), (:A and 84), (:A and 151), (:A and 169), (:B and 87), (:A and 109), (:A and -6), (:A and 18), (:A and 33), (:A and 76), (:B and 45), (:A and 175), (:B and 94), (:A and 158), (:A and 129), (:A and 126), (:A and 216), (:B and 178), (:B and 173), (:B and 42), (:B and 116), (:B and 60), (:B and 182), (:B and 168), (:A and 239), (:A and 120), (:A and 295), (:A and 201), (:B and 43), (:B and 211), (:A and 277), (:A and 235), (:B and 79), (:A and 139), (:B and 199), (:B and 13), (:B and 214), (:B and 58), (:B and 62), (:A and 173), (:A and -14), (:A and 301), (:B and 77), (:A and 14), (:B and 15), (:A and -9), (:B and 148), (:B and 216), (:A and 122), (:B and 12), (:A and 276), (:B and 112), (:A and 107), (:B and 121), (:A and 213), (:A and 49), (:B and 210), (:B and 22), (:A and 72), (:A and 317), (:B and 142), (:A and 166), (:B and 192), (:A and 274), (:A and 172), (:A and 267), (:A and 111), (:A and 282), (:B and 159), (:A and 155), (:A and 204), (:B and 155), (:B and 205), (:A and 206), (:B and 107), (:A and 256), (:B and 36), (:A and 178), (:B and 170), (:B and 197), (:A and 307), (:A and 24), (:A and 56), (:A and 312), (:B and 175), (:A and 1), (:A and 238), (:A and 130), (:B and 138), (:A and 27), (:A and 104), (:B and 130), (:B and 207), (:B and 119), (:A and -3), (:A and 236), (:A and 186), (:B and 181), (:B and 164), (:A and 262), (:A and 136), (:A and 320), (:A and 152), (:B and 184), (:B and 154), (:A and 43), (:B and 196), (:B and 161), (:B and 147), (:A and 305), (:B and 220), (:A and 46), (:A and 38), (:A and 321), (:A and 165), (:B and 75), (:A and 154), (:A and 211), (:A and 174), (:A and 266), (:A and 202), (:A and 228), (:A and 246), (:B and 104), (:B and 86), (:A and 153), (:B and 56), (:B and 106), (:B and 103), (:A and 271), (:A and 85), (:B and 96), (:A and 128), (:B and 193), (:A and 300), (:A and 102), (:A and 269), (:A and 99), (:A and 131), (:A and 198), (:B and 55), (:B and 72), (:B and 109), (:B and 38), (:B and 53), (:A and 191), (:A and 117), (:A and 247), (:B and 40), (:A and 93), (:A and 95), (:B and 101), (:B and 183), (:A and 101), (:A and 58), (:B and 149), (:A and 74), (:B and 48), (:A and 28), (:A and 70), (:A and 89), (:A and 134), (:A and 162), (:A and 233), (:A and 249), (:B and 136), (:B and 162), (:B and 146), (:B and 143), (:B and 11), (:B and 153), (:B and 169), (:B and 186), (:A and 15), (:B and 176), (:B and 105), (:B and 204), (:A and 29), (:B and 160), (:B and 28), (:A and 141), (:A and 62), (:A and -8), (:A and 39), (:A and 177), (:B and 7), (:A and 313), (:B and 151), (:B and 50), (:B and 200), (:A and 73), (:A and 272), (:A and 45), (:A and 232), (:A and 100), (:B and 133), (:A and 286), (:A and 252), (:A and 112), (:A and 287), (:A and 150), (:A and 133), (:B and 167), (:A and 132), (:A and 80), (:A and 20), (:A and 19), (:A and 23), (:A and 87), (:A and 327), (:A and 270), (:A and 190), (:B and 215), (:A and 11), (:A and 51), (:A and 77), (:A and 157), (:B and 35), (:B and 128), (:B and 90), (:A and 16), (:B and 221), (:B and 2), (:A and 281), (:A and 86), (:A and 259), (:A and 288), (:A and 195), (:B and 92), (:A and 297), (:A and -1), (:B and 93), (:A and 283), (:A and 196), (:A and 268), (:A and 55), (:A and 118), (:A and 194), (:B and 100), (:B and 157), (:A and 314), (:B and 97), (:B and 118), (:A and 40), (:A and 22), (:A and 309), (:A and 156), (:A and 292), (:A and 265), (:A and 183), (:A and 284), (:A and -12), (:B and 217), (:A and 106), (:A and 176), (:B and 213), (:B and 117), (:A and 182), (:A and -11), (:B and 188), (:A and 181), (:A and 329), (:B and 129), (:B and 5), (:B and 194), (:A and 263), (:A and 200), (:B and 52), (:A and 116), (:A and 147), (:A and 66), (:A and 115), (:A and 60), (:A and 88)",
           "side": "double",
           "smooth": 2,
           "surfaceType": "ms",
           "useInteriorColor": false,
           "useWorker": false,
           "visible": true,
           "wireframe": false
          },
          "type": "surface"
         }
        }
       },
       "_ngl_serialize": false,
       "_ngl_version": "2.0.0-dev.35",
       "_scene_position": {},
       "_scene_rotation": {},
       "background": "white",
       "count": 1,
       "frame": 0,
       "layout": "IPY_MODEL_6959216142304a6e93f7ef11cb569dcb",
       "n_components": 1,
       "picked": {}
      }
     },
     "68ae52735fa44c4682596d1cc92a99fe": {
      "model_module": "@jupyter-widgets/controls",
      "model_module_version": "1.4.0",
      "model_name": "ImageModel",
      "state": {
       "layout": "IPY_MODEL_f8989afbd7c5401e98404acb369ccf6f",
       "width": "900.0"
      }
     },
     "6959216142304a6e93f7ef11cb569dcb": {
      "model_module": "@jupyter-widgets/base",
      "model_module_version": "1.1.0",
      "model_name": "LayoutModel",
      "state": {}
     },
     "72412e489240484f8592bb7b3dda4996": {
      "model_module": "@jupyter-widgets/base",
      "model_module_version": "1.1.0",
      "model_name": "LayoutModel",
      "state": {}
     },
     "7643d1464a5b442b94f9730c6b60e8f5": {
      "model_module": "nglview-js-widgets",
      "model_module_version": "1.2.0",
      "model_name": "NGLModel",
      "state": {
       "_camera_orientation": [
        217.38309823903052,
        0,
        0,
        0,
        0,
        217.38309823903052,
        0,
        0,
        0,
        0,
        217.38309823903052,
        0,
        -34.66,
        25.44,
        46.9,
        1
       ],
       "_camera_str": "orthographic",
       "_image_data": "",
       "_n_dragged_files": 0,
       "_ngl_coordinate_resource": {},
       "_ngl_full_stage_parameters": {
        "ambientColor": 14540253,
        "ambientIntensity": 0.2,
        "backgroundColor": "white",
        "cameraEyeSep": 0.3,
        "cameraFov": 40,
        "cameraType": "perspective",
        "clipDist": 10,
        "clipFar": 100,
        "clipNear": 0,
        "fogFar": 100,
        "fogNear": 50,
        "hoverTimeout": 0,
        "impostor": true,
        "lightColor": 14540253,
        "lightIntensity": 1,
        "mousePreset": "default",
        "panSpeed": 1,
        "quality": "medium",
        "rotateSpeed": 2,
        "sampleLevel": 0,
        "tooltip": true,
        "workerDefault": true,
        "zoomSpeed": 1.2
       },
       "_ngl_full_stage_parameters_embed": {},
       "_ngl_msg_archive": [],
       "_ngl_original_stage_parameters": {
        "ambientColor": 14540253,
        "ambientIntensity": 0.2,
        "backgroundColor": "white",
        "cameraEyeSep": 0.3,
        "cameraFov": 40,
        "cameraType": "perspective",
        "clipDist": 10,
        "clipFar": 100,
        "clipNear": 0,
        "fogFar": 100,
        "fogNear": 50,
        "hoverTimeout": 0,
        "impostor": true,
        "lightColor": 14540253,
        "lightIntensity": 1,
        "mousePreset": "default",
        "panSpeed": 1,
        "quality": "medium",
        "rotateSpeed": 2,
        "sampleLevel": 0,
        "tooltip": true,
        "workerDefault": true,
        "zoomSpeed": 1.2
       },
       "_ngl_repr_dict": {
        "0": {
         "0": {
          "params": {
           "aspectRatio": 5,
           "assembly": "default",
           "capped": true,
           "clipCenter": {
            "x": 0,
            "y": 0,
            "z": 0
           },
           "clipNear": 0,
           "clipRadius": 0,
           "colorMode": "hcl",
           "colorReverse": false,
           "colorScale": "RdYlBu",
           "colorScheme": "fa496950-88f5-4046-987b-44f5f4ac45e3|",
           "colorValue": 9474192,
           "defaultAssembly": "BU1",
           "depthWrite": true,
           "diffuse": 16777215,
           "diffuseInterior": false,
           "disablePicking": false,
           "flatShaded": false,
           "interiorColor": 2236962,
           "interiorDarkening": 0,
           "lazy": false,
           "matrix": {
            "elements": [
             1,
             0,
             0,
             0,
             0,
             1,
             0,
             0,
             0,
             0,
             1,
             0,
             0,
             0,
             0,
             1
            ]
           },
           "metalness": 0,
           "opacity": 1,
           "quality": "medium",
           "radialSegments": 10,
           "radiusData": {},
           "radiusScale": 0.7,
           "radiusSize": 1,
           "radiusType": "sstruc",
           "roughness": 0.4,
           "sele": "(:A and 193), (:A and 144), (:A and 159), (:A and 160), (:A and 135), (:A and 222), (:A and 244), (:B and 81), (:B and 23), (:B and 124), (:A and 207), (:A and 224), (:A and 227), (:B and 140), (:A and 35), (:B and 37), (:B and 26), (:A and 223), (:B and 83), (:B and 88), (:A and 210), (:A and 188), (:A and 187), (:B and 65), (:A and 225), (:B and 114), (:A and 304), (:A and 61), (:A and 103), (:B and 78), (:B and 18), (:B and 219), (:A and 302), (:A and 208), (:A and 149), (:B and 202), (:A and 229), (:A and 50), (:A and 328), (:A and 214), (:B and 108), (:A and 142), (:A and 96), (:A and 192), (:B and 122), (:B and 179), (:B and 16), (:A and 121), (:A and 2), (:B and 139), (:A and 12), (:B and 68), (:B and 95), (:A and 245), (:B and 67), (:B and 185), (:A and 137), (:B and 76), (:A and -15), (:A and 161), (:B and 127), (:B and 17), (:A and 69), (:A and 180), (:B and 4), (:A and 57), (:B and 126), (:B and 61), (:A and 253), (:A and 215), (:A and 4), (:B and 203), (:A and 7), (:B and 191), (:B and 85), (:A and 41), (:B and 99), (:B and 158), (:A and 34), (:B and 120), (:B and 71), (:B and 84), (:B and 30), (:A and 280), (:A and 5), (:A and 123), (:A and 275), (:A and 32), (:B and 198), (:A and 325), (:B and 31), (:B and 102), (:A and 3), (:B and 47), (:A and 81), (:A and 243), (:B and 110), (:A and 311), (:B and 89), (:A and 164), (:A and 326), (:B and 3), (:A and 261), (:A and 94), (:A and -4), (:A and 205), (:A and 303), (:B and 39), (:B and 165), (:B and 141), (:B and 195), (:B and 132), (:B and 135), (:A and 251), (:B and 152), (:A and 6), (:B and 144), (:A and 273), (:B and 1), (:A and 324), (:B and 70), (:B and 63), (:A and 25), (:A and 323), (:A and 124), (:A and 209), (:A and 257), (:A and -2), (:B and 69), (:A and 53), (:B and 29), (:B and 156), (:A and 143), (:B and 21), (:A and 146), (:A and 226), (:A and 148), (:A and 145), (:A and 171), (:A and 98), (:B and 57), (:A and 127), (:A and 185), (:B and 145), (:A and 21), (:B and 172), (:A and 47), (:A and 179), (:B and 187), (:A and 67), (:A and 114), (:B and 131), (:B and 24), (:A and 64), (:B and 166), (:B and 8), (:A and 82), (:B and 46), (:B and 59), (:B and 137), (:B and 32), (:A and 10), (:A and 319), (:A and 308), (:A and 219), (:A and 167), (:A and 9), (:A and 290), (:A and 240), (:A and 37), (:A and 125), (:A and 44), (:A and 78), (:A and 212), (:A and 63), (:A and 189), (:A and 234), (:A and 8), (:A and 30), (:B and 80), (:B and 54), (:B and 201), (:A and 91), (:B and 125), (:A and 220), (:A and 110), (:B and 10), (:B and 206), (:A and 258), (:A and -5), (:A and 322), (:A and 13), (:B and 113), (:B and 115), (:A and 278), (:A and 199), (:A and 138), (:A and 279), (:A and 108), (:B and 9), (:A and -10), (:B and 73), (:B and 212), (:B and 177), (:B and 134), (:B and 91), (:A and 83), (:A and 36), (:A and 318), (:B and 74), (:B and 20), (:B and 25), (:A and -7), (:A and 184), (:A and 298), (:A and 168), (:A and 218), (:B and 218), (:A and 31), (:A and 316), (:B and 27), (:A and 54), (:A and 90), (:A and 221), (:B and 98), (:A and 203), (:B and 33), (:A and 79), (:A and 92), (:B and 163), (:B and 190), (:B and 174), (:B and 66), (:A and 294), (:A and 241), (:A and 237), (:A and 291), (:A and 260), (:A and 26), (:A and 306), (:A and 264), (:A and -13), (:A and 296), (:B and 49), (:B and 123), (:B and 19), (:A and 75), (:A and 197), (:A and 250), (:B and 82), (:A and 293), (:A and 217), (:B and 34), (:A and 59), (:A and 310), (:A and 105), (:B and 51), (:B and 150), (:A and 140), (:A and 119), (:B and 111), (:A and 254), (:B and 44), (:A and 170), (:B and 41), (:A and 113), (:A and 231), (:B and 209), (:A and 71), (:B and 208), (:A and 163), (:A and 97), (:A and 289), (:B and 14), (:B and 189), (:A and -16), (:A and 48), (:A and 52), (:A and 285), (:B and 180), (:A and 242), (:A and 255), (:A and 248), (:B and 6), (:A and 315), (:A and 68), (:A and 42), (:B and 64), (:A and 299), (:A and 17), (:A and 65), (:B and 171), (:A and 230), (:A and 84), (:A and 151), (:A and 169), (:B and 87), (:A and 109), (:A and -6), (:A and 18), (:A and 33), (:A and 76), (:B and 45), (:A and 175), (:B and 94), (:A and 158), (:A and 129), (:A and 126), (:A and 216), (:B and 178), (:B and 173), (:B and 42), (:B and 116), (:B and 60), (:B and 182), (:B and 168), (:A and 239), (:A and 120), (:A and 295), (:A and 201), (:B and 43), (:B and 211), (:A and 277), (:A and 235), (:B and 79), (:A and 139), (:B and 199), (:B and 13), (:B and 214), (:B and 58), (:B and 62), (:A and 173), (:A and -14), (:A and 301), (:B and 77), (:A and 14), (:B and 15), (:A and -9), (:B and 148), (:B and 216), (:A and 122), (:B and 12), (:A and 276), (:B and 112), (:A and 107), (:B and 121), (:A and 213), (:A and 49), (:B and 210), (:B and 22), (:A and 72), (:A and 317), (:B and 142), (:A and 166), (:B and 192), (:A and 274), (:A and 172), (:A and 267), (:A and 111), (:A and 282), (:B and 159), (:A and 155), (:A and 204), (:B and 155), (:B and 205), (:A and 206), (:B and 107), (:A and 256), (:B and 36), (:A and 178), (:B and 170), (:B and 197), (:A and 307), (:A and 24), (:A and 56), (:A and 312), (:B and 175), (:A and 1), (:A and 238), (:A and 130), (:B and 138), (:A and 27), (:A and 104), (:B and 130), (:B and 207), (:B and 119), (:A and -3), (:A and 236), (:A and 186), (:B and 181), (:B and 164), (:A and 262), (:A and 136), (:A and 320), (:A and 152), (:B and 184), (:B and 154), (:A and 43), (:B and 196), (:B and 161), (:B and 147), (:A and 305), (:B and 220), (:A and 46), (:A and 38), (:A and 321), (:A and 165), (:B and 75), (:A and 154), (:A and 211), (:A and 174), (:A and 266), (:A and 202), (:A and 228), (:A and 246), (:B and 104), (:B and 86), (:A and 153), (:B and 56), (:B and 106), (:B and 103), (:A and 271), (:A and 85), (:B and 96), (:A and 128), (:B and 193), (:A and 300), (:A and 102), (:A and 269), (:A and 99), (:A and 131), (:A and 198), (:B and 55), (:B and 72), (:B and 109), (:B and 38), (:B and 53), (:A and 191), (:A and 117), (:A and 247), (:B and 40), (:A and 93), (:A and 95), (:B and 101), (:B and 183), (:A and 101), (:A and 58), (:B and 149), (:A and 74), (:B and 48), (:A and 28), (:A and 70), (:A and 89), (:A and 134), (:A and 162), (:A and 233), (:A and 249), (:B and 136), (:B and 162), (:B and 146), (:B and 143), (:B and 11), (:B and 153), (:B and 169), (:B and 186), (:A and 15), (:B and 176), (:B and 105), (:B and 204), (:A and 29), (:B and 160), (:B and 28), (:A and 141), (:A and 62), (:A and -8), (:A and 39), (:A and 177), (:B and 7), (:A and 313), (:B and 151), (:B and 50), (:B and 200), (:A and 73), (:A and 272), (:A and 45), (:A and 232), (:A and 100), (:B and 133), (:A and 286), (:A and 252), (:A and 112), (:A and 287), (:A and 150), (:A and 133), (:B and 167), (:A and 132), (:A and 80), (:A and 20), (:A and 19), (:A and 23), (:A and 87), (:A and 327), (:A and 270), (:A and 190), (:B and 215), (:A and 11), (:A and 51), (:A and 77), (:A and 157), (:B and 35), (:B and 128), (:B and 90), (:A and 16), (:B and 221), (:B and 2), (:A and 281), (:A and 86), (:A and 259), (:A and 288), (:A and 195), (:B and 92), (:A and 297), (:A and -1), (:B and 93), (:A and 283), (:A and 196), (:A and 268), (:A and 55), (:A and 118), (:A and 194), (:B and 100), (:B and 157), (:A and 314), (:B and 97), (:B and 118), (:A and 40), (:A and 22), (:A and 309), (:A and 156), (:A and 292), (:A and 265), (:A and 183), (:A and 284), (:A and -12), (:B and 217), (:A and 106), (:A and 176), (:B and 213), (:B and 117), (:A and 182), (:A and -11), (:B and 188), (:A and 181), (:A and 329), (:B and 129), (:B and 5), (:B and 194), (:A and 263), (:A and 200), (:B and 52), (:A and 116), (:A and 147), (:A and 66), (:A and 115), (:A and 60), (:A and 88)",
           "side": "double",
           "smoothSheet": false,
           "subdiv": 6,
           "tension": null,
           "useInteriorColor": true,
           "visible": true,
           "wireframe": false
          },
          "type": "cartoon"
         },
         "1": {
          "params": {
           "assembly": "default",
           "clipCenter": {
            "x": 0,
            "y": 0,
            "z": 0
           },
           "clipNear": 0,
           "clipRadius": 0,
           "colorMode": "hcl",
           "colorReverse": false,
           "colorScale": "",
           "colorScheme": "9948a4a5-e653-4187-b2a6-0637fff152c3|",
           "colorValue": 9474192,
           "defaultAssembly": "BU1",
           "depthWrite": true,
           "diffuse": 16777215,
           "diffuseInterior": false,
           "disableImpostor": false,
           "disablePicking": false,
           "flatShaded": false,
           "interiorColor": 2236962,
           "interiorDarkening": 0,
           "lazy": false,
           "matrix": {
            "elements": [
             1,
             0,
             0,
             0,
             0,
             1,
             0,
             0,
             0,
             0,
             1,
             0,
             0,
             0,
             0,
             1
            ]
           },
           "metalness": 0,
           "opacity": 1,
           "quality": "medium",
           "radiusData": {},
           "radiusScale": 1,
           "radiusSize": 1,
           "radiusType": "vdw",
           "roughness": 0.4,
           "sele": "(:A and 193), (:A and 144), (:A and 159), (:A and 160), (:A and 222), (:A and 244), (:A and 157)",
           "side": "double",
           "sphereDetail": 1,
           "useInteriorColor": true,
           "visible": true,
           "wireframe": false
          },
          "type": "spacefill"
         }
        }
       },
       "_ngl_serialize": false,
       "_ngl_version": "2.0.0-dev.35",
       "_scene_position": {},
       "_scene_rotation": {},
       "background": "white",
       "count": 1,
       "frame": 0,
       "layout": "IPY_MODEL_72412e489240484f8592bb7b3dda4996",
       "n_components": 1,
       "picked": {}
      }
     },
     "94a8dd03e400460aa60ff1d19901561d": {
      "model_module": "@jupyter-widgets/base",
      "model_module_version": "1.1.0",
      "model_name": "LayoutModel",
      "state": {}
     },
     "9dfd4fb7d51b4c1bb10aada8a43bd5d4": {
      "model_module": "nglview-js-widgets",
      "model_module_version": "1.2.0",
      "model_name": "NGLModel",
      "state": {
       "_camera_orientation": [
        217.38309823903052,
        0,
        0,
        0,
        0,
        217.38309823903052,
        0,
        0,
        0,
        0,
        217.38309823903052,
        0,
        -34.66,
        25.44,
        46.9,
        1
       ],
       "_camera_str": "orthographic",
       "_image_data": "",
       "_n_dragged_files": 0,
       "_ngl_coordinate_resource": {},
       "_ngl_full_stage_parameters": {
        "ambientColor": 14540253,
        "ambientIntensity": 0.2,
        "backgroundColor": "white",
        "cameraEyeSep": 0.3,
        "cameraFov": 40,
        "cameraType": "perspective",
        "clipDist": 10,
        "clipFar": 100,
        "clipNear": 0,
        "fogFar": 100,
        "fogNear": 50,
        "hoverTimeout": 0,
        "impostor": true,
        "lightColor": 14540253,
        "lightIntensity": 1,
        "mousePreset": "default",
        "panSpeed": 1,
        "quality": "medium",
        "rotateSpeed": 2,
        "sampleLevel": 0,
        "tooltip": true,
        "workerDefault": true,
        "zoomSpeed": 1.2
       },
       "_ngl_full_stage_parameters_embed": {},
       "_ngl_msg_archive": [],
       "_ngl_original_stage_parameters": {
        "ambientColor": 14540253,
        "ambientIntensity": 0.2,
        "backgroundColor": "white",
        "cameraEyeSep": 0.3,
        "cameraFov": 40,
        "cameraType": "perspective",
        "clipDist": 10,
        "clipFar": 100,
        "clipNear": 0,
        "fogFar": 100,
        "fogNear": 50,
        "hoverTimeout": 0,
        "impostor": true,
        "lightColor": 14540253,
        "lightIntensity": 1,
        "mousePreset": "default",
        "panSpeed": 1,
        "quality": "medium",
        "rotateSpeed": 2,
        "sampleLevel": 0,
        "tooltip": true,
        "workerDefault": true,
        "zoomSpeed": 1.2
       },
       "_ngl_repr_dict": {
        "0": {
         "0": {
          "params": {
           "aspectRatio": 5,
           "assembly": "default",
           "capped": true,
           "clipCenter": {
            "x": 0,
            "y": 0,
            "z": 0
           },
           "clipNear": 0,
           "clipRadius": 0,
           "colorMode": "hcl",
           "colorReverse": false,
           "colorScale": "RdYlBu",
           "colorScheme": "5d7b64b2-c265-411a-99bb-43543fd90322|",
           "colorValue": 9474192,
           "defaultAssembly": "BU1",
           "depthWrite": true,
           "diffuse": 16777215,
           "diffuseInterior": false,
           "disablePicking": false,
           "flatShaded": false,
           "interiorColor": 2236962,
           "interiorDarkening": 0,
           "lazy": false,
           "matrix": {
            "elements": [
             1,
             0,
             0,
             0,
             0,
             1,
             0,
             0,
             0,
             0,
             1,
             0,
             0,
             0,
             0,
             1
            ]
           },
           "metalness": 0,
           "opacity": 1,
           "quality": "medium",
           "radialSegments": 10,
           "radiusData": {},
           "radiusScale": 0.7,
           "radiusSize": 1,
           "radiusType": "sstruc",
           "roughness": 0.4,
           "sele": "(:A and 193), (:A and 144), (:A and 159), (:A and 160), (:A and 135), (:A and 222), (:A and 244), (:B and 81), (:B and 23), (:B and 124), (:A and 207), (:A and 224), (:A and 227), (:B and 140), (:A and 35), (:B and 37), (:B and 26), (:A and 223), (:B and 83), (:B and 88), (:A and 210), (:A and 188), (:A and 187), (:B and 65), (:A and 225), (:B and 114), (:A and 304), (:A and 61), (:A and 103), (:B and 78), (:B and 18), (:B and 219), (:A and 302), (:A and 208), (:A and 149), (:B and 202), (:A and 229), (:A and 50), (:A and 328), (:A and 214), (:B and 108), (:A and 142), (:A and 96), (:A and 192), (:B and 122), (:B and 179), (:B and 16), (:A and 121), (:A and 2), (:B and 139), (:A and 12), (:B and 68), (:B and 95), (:A and 245), (:B and 67), (:B and 185), (:A and 137), (:B and 76), (:A and -15), (:A and 161), (:B and 127), (:B and 17), (:A and 69), (:A and 180), (:B and 4), (:A and 57), (:B and 126), (:B and 61), (:A and 253), (:A and 215), (:A and 4), (:B and 203), (:A and 7), (:B and 191), (:B and 85), (:A and 41), (:B and 99), (:B and 158), (:A and 34), (:B and 120), (:B and 71), (:B and 84), (:B and 30), (:A and 280), (:A and 5), (:A and 123), (:A and 275), (:A and 32), (:B and 198), (:A and 325), (:B and 31), (:B and 102), (:A and 3), (:B and 47), (:A and 81), (:A and 243), (:B and 110), (:A and 311), (:B and 89), (:A and 164), (:A and 326), (:B and 3), (:A and 261), (:A and 94), (:A and -4), (:A and 205), (:A and 303), (:B and 39), (:B and 165), (:B and 141), (:B and 195), (:B and 132), (:B and 135), (:A and 251), (:B and 152), (:A and 6), (:B and 144), (:A and 273), (:B and 1), (:A and 324), (:B and 70), (:B and 63), (:A and 25), (:A and 323), (:A and 124), (:A and 209), (:A and 257), (:A and -2), (:B and 69), (:A and 53), (:B and 29), (:B and 156), (:A and 143), (:B and 21), (:A and 146), (:A and 226), (:A and 148), (:A and 145), (:A and 171), (:A and 98), (:B and 57), (:A and 127), (:A and 185), (:B and 145), (:A and 21), (:B and 172), (:A and 47), (:A and 179), (:B and 187), (:A and 67), (:A and 114), (:B and 131), (:B and 24), (:A and 64), (:B and 166), (:B and 8), (:A and 82), (:B and 46), (:B and 59), (:B and 137), (:B and 32), (:A and 10), (:A and 319), (:A and 308), (:A and 219), (:A and 167), (:A and 9), (:A and 290), (:A and 240), (:A and 37), (:A and 125), (:A and 44), (:A and 78), (:A and 212), (:A and 63), (:A and 189), (:A and 234), (:A and 8), (:A and 30), (:B and 80), (:B and 54), (:B and 201), (:A and 91), (:B and 125), (:A and 220), (:A and 110), (:B and 10), (:B and 206), (:A and 258), (:A and -5), (:A and 322), (:A and 13), (:B and 113), (:B and 115), (:A and 278), (:A and 199), (:A and 138), (:A and 279), (:A and 108), (:B and 9), (:A and -10), (:B and 73), (:B and 212), (:B and 177), (:B and 134), (:B and 91), (:A and 83), (:A and 36), (:A and 318), (:B and 74), (:B and 20), (:B and 25), (:A and -7), (:A and 184), (:A and 298), (:A and 168), (:A and 218), (:B and 218), (:A and 31), (:A and 316), (:B and 27), (:A and 54), (:A and 90), (:A and 221), (:B and 98), (:A and 203), (:B and 33), (:A and 79), (:A and 92), (:B and 163), (:B and 190), (:B and 174), (:B and 66), (:A and 294), (:A and 241), (:A and 237), (:A and 291), (:A and 260), (:A and 26), (:A and 306), (:A and 264), (:A and -13), (:A and 296), (:B and 49), (:B and 123), (:B and 19), (:A and 75), (:A and 197), (:A and 250), (:B and 82), (:A and 293), (:A and 217), (:B and 34), (:A and 59), (:A and 310), (:A and 105), (:B and 51), (:B and 150), (:A and 140), (:A and 119), (:B and 111), (:A and 254), (:B and 44), (:A and 170), (:B and 41), (:A and 113), (:A and 231), (:B and 209), (:A and 71), (:B and 208), (:A and 163), (:A and 97), (:A and 289), (:B and 14), (:B and 189), (:A and -16), (:A and 48), (:A and 52), (:A and 285), (:B and 180), (:A and 242), (:A and 255), (:A and 248), (:B and 6), (:A and 315), (:A and 68), (:A and 42), (:B and 64), (:A and 299), (:A and 17), (:A and 65), (:B and 171), (:A and 230), (:A and 84), (:A and 151), (:A and 169), (:B and 87), (:A and 109), (:A and -6), (:A and 18), (:A and 33), (:A and 76), (:B and 45), (:A and 175), (:B and 94), (:A and 158), (:A and 129), (:A and 126), (:A and 216), (:B and 178), (:B and 173), (:B and 42), (:B and 116), (:B and 60), (:B and 182), (:B and 168), (:A and 239), (:A and 120), (:A and 295), (:A and 201), (:B and 43), (:B and 211), (:A and 277), (:A and 235), (:B and 79), (:A and 139), (:B and 199), (:B and 13), (:B and 214), (:B and 58), (:B and 62), (:A and 173), (:A and -14), (:A and 301), (:B and 77), (:A and 14), (:B and 15), (:A and -9), (:B and 148), (:B and 216), (:A and 122), (:B and 12), (:A and 276), (:B and 112), (:A and 107), (:B and 121), (:A and 213), (:A and 49), (:B and 210), (:B and 22), (:A and 72), (:A and 317), (:B and 142), (:A and 166), (:B and 192), (:A and 274), (:A and 172), (:A and 267), (:A and 111), (:A and 282), (:B and 159), (:A and 155), (:A and 204), (:B and 155), (:B and 205), (:A and 206), (:B and 107), (:A and 256), (:B and 36), (:A and 178), (:B and 170), (:B and 197), (:A and 307), (:A and 24), (:A and 56), (:A and 312), (:B and 175), (:A and 1), (:A and 238), (:A and 130), (:B and 138), (:A and 27), (:A and 104), (:B and 130), (:B and 207), (:B and 119), (:A and -3), (:A and 236), (:A and 186), (:B and 181), (:B and 164), (:A and 262), (:A and 136), (:A and 320), (:A and 152), (:B and 184), (:B and 154), (:A and 43), (:B and 196), (:B and 161), (:B and 147), (:A and 305), (:B and 220), (:A and 46), (:A and 38), (:A and 321), (:A and 165), (:B and 75), (:A and 154), (:A and 211), (:A and 174), (:A and 266), (:A and 202), (:A and 228), (:A and 246), (:B and 104), (:B and 86), (:A and 153), (:B and 56), (:B and 106), (:B and 103), (:A and 271), (:A and 85), (:B and 96), (:A and 128), (:B and 193), (:A and 300), (:A and 102), (:A and 269), (:A and 99), (:A and 131), (:A and 198), (:B and 55), (:B and 72), (:B and 109), (:B and 38), (:B and 53), (:A and 191), (:A and 117), (:A and 247), (:B and 40), (:A and 93), (:A and 95), (:B and 101), (:B and 183), (:A and 101), (:A and 58), (:B and 149), (:A and 74), (:B and 48), (:A and 28), (:A and 70), (:A and 89), (:A and 134), (:A and 162), (:A and 233), (:A and 249), (:B and 136), (:B and 162), (:B and 146), (:B and 143), (:B and 11), (:B and 153), (:B and 169), (:B and 186), (:A and 15), (:B and 176), (:B and 105), (:B and 204), (:A and 29), (:B and 160), (:B and 28), (:A and 141), (:A and 62), (:A and -8), (:A and 39), (:A and 177), (:B and 7), (:A and 313), (:B and 151), (:B and 50), (:B and 200), (:A and 73), (:A and 272), (:A and 45), (:A and 232), (:A and 100), (:B and 133), (:A and 286), (:A and 252), (:A and 112), (:A and 287), (:A and 150), (:A and 133), (:B and 167), (:A and 132), (:A and 80), (:A and 20), (:A and 19), (:A and 23), (:A and 87), (:A and 327), (:A and 270), (:A and 190), (:B and 215), (:A and 11), (:A and 51), (:A and 77), (:A and 157), (:B and 35), (:B and 128), (:B and 90), (:A and 16), (:B and 221), (:B and 2), (:A and 281), (:A and 86), (:A and 259), (:A and 288), (:A and 195), (:B and 92), (:A and 297), (:A and -1), (:B and 93), (:A and 283), (:A and 196), (:A and 268), (:A and 55), (:A and 118), (:A and 194), (:B and 100), (:B and 157), (:A and 314), (:B and 97), (:B and 118), (:A and 40), (:A and 22), (:A and 309), (:A and 156), (:A and 292), (:A and 265), (:A and 183), (:A and 284), (:A and -12), (:B and 217), (:A and 106), (:A and 176), (:B and 213), (:B and 117), (:A and 182), (:A and -11), (:B and 188), (:A and 181), (:A and 329), (:B and 129), (:B and 5), (:B and 194), (:A and 263), (:A and 200), (:B and 52), (:A and 116), (:A and 147), (:A and 66), (:A and 115), (:A and 60), (:A and 88)",
           "side": "double",
           "smoothSheet": false,
           "subdiv": 6,
           "tension": null,
           "useInteriorColor": true,
           "visible": true,
           "wireframe": false
          },
          "type": "cartoon"
         }
        }
       },
       "_ngl_serialize": false,
       "_ngl_version": "2.0.0-dev.35",
       "_scene_position": {},
       "_scene_rotation": {},
       "background": "white",
       "count": 1,
       "frame": 0,
       "layout": "IPY_MODEL_460f1c3f3c2245ecbc3da9b2fcb2288a",
       "n_components": 1,
       "picked": {}
      }
     },
     "a41a9f79bf4d464e8bf604c428a2bcdc": {
      "model_module": "@jupyter-widgets/base",
      "model_module_version": "1.1.0",
      "model_name": "LayoutModel",
      "state": {}
     },
     "a4f04543c8f944bc8a444853b1571aa4": {
      "model_module": "nglview-js-widgets",
      "model_module_version": "1.2.0",
      "model_name": "NGLModel",
      "state": {
       "_camera_orientation": [
        217.38309823903052,
        0,
        0,
        0,
        0,
        217.38309823903052,
        0,
        0,
        0,
        0,
        217.38309823903052,
        0,
        -34.66,
        25.44,
        46.9,
        1
       ],
       "_camera_str": "orthographic",
       "_image_data": "",
       "_n_dragged_files": 0,
       "_ngl_coordinate_resource": {},
       "_ngl_full_stage_parameters": {
        "ambientColor": 14540253,
        "ambientIntensity": 0.2,
        "backgroundColor": "white",
        "cameraEyeSep": 0.3,
        "cameraFov": 40,
        "cameraType": "perspective",
        "clipDist": 10,
        "clipFar": 100,
        "clipNear": 0,
        "fogFar": 100,
        "fogNear": 50,
        "hoverTimeout": 0,
        "impostor": true,
        "lightColor": 14540253,
        "lightIntensity": 1,
        "mousePreset": "default",
        "panSpeed": 1,
        "quality": "medium",
        "rotateSpeed": 2,
        "sampleLevel": 0,
        "tooltip": true,
        "workerDefault": true,
        "zoomSpeed": 1.2
       },
       "_ngl_full_stage_parameters_embed": {},
       "_ngl_msg_archive": [],
       "_ngl_original_stage_parameters": {
        "ambientColor": 14540253,
        "ambientIntensity": 0.2,
        "backgroundColor": "white",
        "cameraEyeSep": 0.3,
        "cameraFov": 40,
        "cameraType": "perspective",
        "clipDist": 10,
        "clipFar": 100,
        "clipNear": 0,
        "fogFar": 100,
        "fogNear": 50,
        "hoverTimeout": 0,
        "impostor": true,
        "lightColor": 14540253,
        "lightIntensity": 1,
        "mousePreset": "default",
        "panSpeed": 1,
        "quality": "medium",
        "rotateSpeed": 2,
        "sampleLevel": 0,
        "tooltip": true,
        "workerDefault": true,
        "zoomSpeed": 1.2
       },
       "_ngl_repr_dict": {
        "0": {
         "0": {
          "params": {
           "aspectRatio": 5,
           "assembly": "default",
           "capped": true,
           "clipCenter": {
            "x": 0,
            "y": 0,
            "z": 0
           },
           "clipNear": 0,
           "clipRadius": 0,
           "colorMode": "hcl",
           "colorReverse": false,
           "colorScale": "RdYlBu",
           "colorScheme": "40e2a1cb-cd2c-477f-b92f-e1dd0bc4dcd7|",
           "colorValue": 9474192,
           "defaultAssembly": "BU1",
           "depthWrite": true,
           "diffuse": 16777215,
           "diffuseInterior": false,
           "disablePicking": false,
           "flatShaded": false,
           "interiorColor": 2236962,
           "interiorDarkening": 0,
           "lazy": false,
           "matrix": {
            "elements": [
             1,
             0,
             0,
             0,
             0,
             1,
             0,
             0,
             0,
             0,
             1,
             0,
             0,
             0,
             0,
             1
            ]
           },
           "metalness": 0,
           "opacity": 1,
           "quality": "medium",
           "radialSegments": 10,
           "radiusData": {},
           "radiusScale": 0.7,
           "radiusSize": 1,
           "radiusType": "sstruc",
           "roughness": 0.4,
           "sele": "(protein) or ((:A and 193), (:A and 144), (:A and 159), (:A and 160), (:A and 135), (:A and 222), (:A and 244), (:A and 207), (:A and 224), (:A and 227), (:A and 35), (:A and 223), (:A and 210), (:A and 188), (:A and 187), (:A and 225), (:A and 304), (:A and 61), (:A and 103), (:A and 302), (:A and 208), (:A and 149), (:A and 229), (:A and 50), (:A and 328), (:A and 214), (:A and 142), (:A and 96), (:A and 192), (:A and 121), (:A and 2), (:A and 12), (:A and 245), (:A and 137), (:A and -15), (:A and 161), (:A and 69), (:A and 180), (:A and 57), (:A and 253), (:A and 215), (:A and 4), (:A and 7), (:A and 41), (:A and 34), (:A and 280), (:A and 5), (:A and 123), (:A and 275), (:A and 32), (:A and 325), (:A and 3), (:A and 81), (:A and 243), (:A and 311), (:A and 164), (:A and 326), (:A and 261), (:A and 94), (:A and -4), (:A and 205), (:A and 303), (:A and 251), (:A and 6), (:A and 273), (:A and 324), (:A and 25), (:A and 323), (:A and 124), (:A and 209), (:A and 257), (:A and -2), (:A and 53), (:A and 143), (:A and 146), (:A and 226), (:A and 148), (:A and 145), (:A and 171), (:A and 98), (:A and 127), (:A and 185), (:A and 21), (:A and 47), (:A and 179), (:A and 67), (:A and 114), (:A and 64), (:A and 82), (:A and 10), (:A and 319), (:A and 308), (:A and 219), (:A and 167), (:A and 9), (:A and 290), (:A and 240), (:A and 37), (:A and 125), (:A and 44), (:A and 78), (:A and 212), (:A and 63), (:A and 189), (:A and 234), (:A and 8), (:A and 30), (:A and 91), (:A and 220), (:A and 110), (:A and 258), (:A and -5), (:A and 322), (:A and 13), (:A and 278), (:A and 199), (:A and 138), (:A and 279), (:A and 108), (:A and -10), (:A and 83), (:A and 36), (:A and 318), (:A and -7), (:A and 184), (:A and 298), (:A and 168), (:A and 218), (:A and 31), (:A and 316), (:A and 54), (:A and 90), (:A and 221), (:A and 203), (:A and 79), (:A and 92), (:A and 294), (:A and 241), (:A and 237), (:A and 291), (:A and 260), (:A and 26), (:A and 306), (:A and 264), (:A and -13), (:A and 296), (:A and 75), (:A and 197), (:A and 250), (:A and 293), (:A and 217), (:A and 59), (:A and 310), (:A and 105), (:A and 140), (:A and 119), (:A and 254), (:A and 170), (:A and 113), (:A and 231), (:A and 71), (:A and 163), (:A and 97), (:A and 289), (:A and -16), (:A and 48), (:A and 52), (:A and 285), (:A and 242), (:A and 255), (:A and 248), (:A and 315), (:A and 68), (:A and 42), (:A and 299), (:A and 17), (:A and 65), (:A and 230), (:A and 84), (:A and 151), (:A and 169), (:A and 109), (:A and -6), (:A and 18), (:A and 33), (:A and 76), (:A and 175), (:A and 158), (:A and 129), (:A and 126), (:A and 216), (:A and 239), (:A and 120), (:A and 295), (:A and 201), (:A and 277), (:A and 235), (:A and 139), (:A and 173), (:A and -14), (:A and 301), (:A and 14), (:A and -9), (:A and 122), (:A and 276), (:A and 107), (:A and 213), (:A and 49), (:A and 72), (:A and 317), (:A and 166), (:A and 274), (:A and 172), (:A and 267), (:A and 111), (:A and 282), (:A and 155), (:A and 204), (:A and 206), (:A and 256), (:A and 178), (:A and 307), (:A and 24), (:A and 56), (:A and 312), (:A and 1), (:A and 238), (:A and 130), (:A and 27), (:A and 104), (:A and -3), (:A and 236), (:A and 186), (:A and 262), (:A and 136), (:A and 320), (:A and 152), (:A and 43), (:A and 305), (:A and 46), (:A and 38), (:A and 321), (:A and 165), (:A and 154), (:A and 211), (:A and 174), (:A and 266), (:A and 202), (:A and 228), (:A and 246), (:A and 153), (:A and 271), (:A and 85), (:A and 128), (:A and 300), (:A and 102), (:A and 269), (:A and 99), (:A and 131), (:A and 198), (:A and 191), (:A and 117), (:A and 247), (:A and 93), (:A and 95), (:A and 101), (:A and 58), (:A and 74), (:A and 28), (:A and 70), (:A and 89), (:A and 134), (:A and 162), (:A and 233), (:A and 249), (:A and 15), (:A and 29), (:A and 141), (:A and 62), (:A and -8), (:A and 39), (:A and 177), (:A and 313), (:A and 73), (:A and 272), (:A and 45), (:A and 232), (:A and 100), (:A and 286), (:A and 252), (:A and 112), (:A and 287), (:A and 150), (:A and 133), (:A and 132), (:A and 80), (:A and 20), (:A and 19), (:A and 23), (:A and 87), (:A and 327), (:A and 270), (:A and 190), (:A and 11), (:A and 51), (:A and 77), (:A and 157), (:A and 16), (:A and 281), (:A and 86), (:A and 259), (:A and 288), (:A and 195), (:A and 297), (:A and -1), (:A and 283), (:A and 196), (:A and 268), (:A and 55), (:A and 118), (:A and 194), (:A and 314), (:A and 40), (:A and 22), (:A and 309), (:A and 156), (:A and 292), (:A and 265), (:A and 183), (:A and 284), (:A and -12), (:A and 106), (:A and 176), (:A and 182), (:A and -11), (:A and 181), (:A and 329), (:A and 263), (:A and 200), (:A and 116), (:A and 147), (:A and 66), (:A and 115), (:A and 60), (:A and 88))",
           "side": "double",
           "smoothSheet": false,
           "subdiv": 6,
           "tension": null,
           "useInteriorColor": true,
           "visible": true,
           "wireframe": false
          },
          "type": "cartoon"
         },
         "1": {
          "params": {
           "assembly": "default",
           "clipCenter": {
            "x": 0,
            "y": 0,
            "z": 0
           },
           "clipNear": 0,
           "clipRadius": 0,
           "colorMode": "hcl",
           "colorReverse": false,
           "colorScale": "",
           "colorScheme": "c6fe1e5c-d587-42f8-b884-d697dc38bb56|",
           "colorValue": 9474192,
           "defaultAssembly": "BU1",
           "depthWrite": true,
           "diffuse": 16777215,
           "diffuseInterior": false,
           "disableImpostor": false,
           "disablePicking": false,
           "flatShaded": false,
           "interiorColor": 2236962,
           "interiorDarkening": 0,
           "lazy": false,
           "matrix": {
            "elements": [
             1,
             0,
             0,
             0,
             0,
             1,
             0,
             0,
             0,
             0,
             1,
             0,
             0,
             0,
             0,
             1
            ]
           },
           "metalness": 0,
           "opacity": 1,
           "quality": "medium",
           "radiusData": {},
           "radiusScale": 1,
           "radiusSize": 1,
           "radiusType": "vdw",
           "roughness": 0.4,
           "sele": "(:A and 193), (:A and 144), (:A and 159), (:A and 160), (:A and 222), (:A and 244), (:A and 157)",
           "side": "double",
           "sphereDetail": 1,
           "useInteriorColor": true,
           "visible": true,
           "wireframe": false
          },
          "type": "spacefill"
         }
        }
       },
       "_ngl_serialize": false,
       "_ngl_version": "2.0.0-dev.35",
       "_scene_position": {},
       "_scene_rotation": {},
       "background": "white",
       "count": 1,
       "frame": 0,
       "layout": "IPY_MODEL_438c4a2e8e934724b47c97a5520c79ea",
       "n_components": 1,
       "picked": {}
      }
     },
     "a72c1358081f455d9f624fa5c5a84840": {
      "model_module": "@jupyter-widgets/controls",
      "model_module_version": "1.4.0",
      "model_name": "ImageModel",
      "state": {
       "layout": "IPY_MODEL_3b4d39f7792d4513a82199c029c6923a",
       "width": "900.0"
      }
     },
     "c5ee54feed3a43ca986ac8fc096a3f7c": {
      "model_module": "@jupyter-widgets/base",
      "model_module_version": "1.1.0",
      "model_name": "LayoutModel",
      "state": {}
     },
     "f8989afbd7c5401e98404acb369ccf6f": {
      "model_module": "@jupyter-widgets/base",
      "model_module_version": "1.1.0",
      "model_name": "LayoutModel",
      "state": {}
     }
    },
    "version_major": 2,
    "version_minor": 0
   }
  }
 },
 "nbformat": 4,
 "nbformat_minor": 2
}
